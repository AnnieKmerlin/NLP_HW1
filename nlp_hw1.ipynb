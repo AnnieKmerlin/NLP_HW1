{
 "cells": [
  {
   "cell_type": "code",
   "execution_count": 1,
   "metadata": {},
   "outputs": [],
   "source": [
    "import string\n",
    "import math\n",
    "import numpy as np\n",
    "from matplotlib import pyplot as plt\n",
    "\n",
    "import nltk, collections\n",
    "from nltk import word_tokenize, sent_tokenize, bigrams\n",
    "from nltk.util import ngrams\n",
    "\n",
    "from nltk.probability import FreqDist\n",
    "from nltk.corpus import stopwords"
   ]
  },
  {
   "cell_type": "code",
   "execution_count": 2,
   "metadata": {},
   "outputs": [
    {
     "name": "stderr",
     "output_type": "stream",
     "text": [
      "[nltk_data] Downloading package punkt to\n",
      "[nltk_data]     C:\\Users\\Annie2016\\AppData\\Roaming\\nltk_data...\n",
      "[nltk_data]   Package punkt is already up-to-date!\n"
     ]
    },
    {
     "data": {
      "text/plain": [
       "True"
      ]
     },
     "execution_count": 2,
     "metadata": {},
     "output_type": "execute_result"
    }
   ],
   "source": [
    "#  NLTK Downloader to obtain the resource:\n",
    "nltk.download('punkt')"
   ]
  },
  {
   "cell_type": "markdown",
   "metadata": {},
   "source": [
    "### 1: Structuring the data"
   ]
  },
  {
   "cell_type": "markdown",
   "metadata": {},
   "source": [
    "#### Loading the raw data and constitute the data into a one-line-per-sentence format\n"
   ]
  },
  {
   "cell_type": "code",
   "execution_count": 2,
   "metadata": {},
   "outputs": [],
   "source": [
    "filename = 'output.txt'\n",
    "\n",
    "with open(filename, 'r') as file:\n",
    "    # Read all text lines at once\n",
    "    lines = file.read()\n",
    "    # Replace New-line character with space character\n",
    "    stripped = lines.replace('\\n', ' ')\n",
    "    # Make sentence tokens from the text\n",
    "    sentences = sent_tokenize(stripped)"
   ]
  },
  {
   "cell_type": "code",
   "execution_count": 4,
   "metadata": {},
   "outputs": [
    {
     "data": {
      "text/plain": [
       "[\"Mainland Chinese Foreign Minister Qian Qichen was highly skeptical of Tokyo's explanations of the content of the newly published US-Japan guidelines for defense cooperation when he met Monday in Beijing with representatives of Japan's press.\",\n",
       " 'Qian also said the time is not ripe yet for a trilateral official dialogue among Washington, Beijing and Tokyo on defense, adding that \"scholarly discussion\" would be appropriate at the present.',\n",
       " \"Qian's remarks indicate that despite explanations of the new guidelines by Japanese Prime Minister Ryutaro Hashimoto and Foreign Minister Keizo Obuchi, Beijing is still very worried about whether Taiwan falls within the sphere of the bilateral defense agreement.\",\n",
       " \"According to reports in the Japanese media, among Qian's concerns are:  -- If the defense pact is a matter between Washington and Tokyo, it should be unnecessary to renew it, hence putting its content into doubt.\",\n",
       " '-- Although the new guidelines do not specifically mention geographic criteria, there is still speculation that they cover Taiwan.']"
      ]
     },
     "execution_count": 4,
     "metadata": {},
     "output_type": "execute_result"
    }
   ],
   "source": [
    "sentences[:5]"
   ]
  },
  {
   "cell_type": "markdown",
   "metadata": {},
   "source": [
    "#### Break sentences into words, remove punctuations, and transform to uppercase "
   ]
  },
  {
   "cell_type": "code",
   "execution_count": 3,
   "metadata": {},
   "outputs": [],
   "source": [
    "# Get all punctuations\n",
    "punct_set = set(string.punctuation)\n",
    "corpus = []\n",
    "\n",
    "for sentence in sentences:\n",
    "    tokens = word_tokenize(sentence.upper())\n",
    "    no_punct_toks = [t for t in tokens if t not in punct_set]\n",
    "    corpus.append(no_punct_toks)"
   ]
  },
  {
   "cell_type": "markdown",
   "metadata": {},
   "source": [
    "#### 1. How many sentences are there in the given corpus?"
   ]
  },
  {
   "cell_type": "code",
   "execution_count": 5,
   "metadata": {},
   "outputs": [
    {
     "name": "stdout",
     "output_type": "stream",
     "text": [
      "There are 579780 sentences in this corpus.\n"
     ]
    }
   ],
   "source": [
    "sentences_num = len(corpus)\n",
    "print('There are {} sentences in this corpus.'.format(sentences_num))"
   ]
  },
  {
   "cell_type": "markdown",
   "metadata": {},
   "source": [
    "### 2: Counting and comparing"
   ]
  },
  {
   "cell_type": "code",
   "execution_count": 4,
   "metadata": {},
   "outputs": [],
   "source": [
    "# Combine all the tokens in the corpus\n",
    "corpus_tokens = []\n",
    "for sentence in corpus:\n",
    "    corpus_tokens += sentence"
   ]
  },
  {
   "cell_type": "markdown",
   "metadata": {},
   "source": [
    "#### Unigram frequency count of each word"
   ]
  },
  {
   "cell_type": "code",
   "execution_count": 26,
   "metadata": {},
   "outputs": [
    {
     "data": {
      "text/plain": [
       "[('THE', 1219284), ('TO', 511910), ('OF', 505728)]"
      ]
     },
     "execution_count": 26,
     "metadata": {},
     "output_type": "execute_result"
    }
   ],
   "source": [
    "#get the bigrams\n",
    "count_unigram = corpus_tokens\n",
    "#compute the frequency count\n",
    "freq_unigram = collections.Counter(count_unigram)\n",
    "#Have just printed the three common unigrams,the computer hangs otherwise\n",
    "freq_unigram.most_common(3)"
   ]
  },
  {
   "cell_type": "markdown",
   "metadata": {},
   "source": [
    "#### Bigram frequency count of each word"
   ]
  },
  {
   "cell_type": "code",
   "execution_count": 22,
   "metadata": {},
   "outputs": [
    {
     "data": {
      "text/plain": [
       "[(('OF', 'THE'), 149523), (('IN', 'THE'), 96264), (('TO', 'THE'), 59287)]"
      ]
     },
     "execution_count": 22,
     "metadata": {},
     "output_type": "execute_result"
    }
   ],
   "source": [
    "#get the bigrams\n",
    "count_bigram = nltk.bigrams(corpus_tokens)\n",
    "#compute the frequency count\n",
    "freq_bigram = collections.Counter(count_bigram)\n",
    "#Have just printed the three common bigrams,the computer hangs otherwise\n",
    "freq_bigram.most_common(3)"
   ]
  },
  {
   "cell_type": "markdown",
   "metadata": {},
   "source": [
    "#### 1. How many unique types are present in this corpus?"
   ]
  },
  {
   "cell_type": "code",
   "execution_count": 6,
   "metadata": {},
   "outputs": [],
   "source": [
    "# Combine all the tokens in the corpus\n",
    "corpus_tokens = []\n",
    "for sentence in corpus:\n",
    "    corpus_tokens += sentence"
   ]
  },
  {
   "cell_type": "code",
   "execution_count": 6,
   "metadata": {},
   "outputs": [
    {
     "name": "stdout",
     "output_type": "stream",
     "text": [
      "There are 143467 unique types in this corpus.\n"
     ]
    }
   ],
   "source": [
    "distinct_words = set(corpus_tokens)\n",
    "distinct_words_num = len(distinct_words)\n",
    "print('There are {} unique types in this corpus.'.format(distinct_words_num))"
   ]
  },
  {
   "cell_type": "markdown",
   "metadata": {},
   "source": [
    "#### 2. How about unigram tokens?"
   ]
  },
  {
   "cell_type": "code",
   "execution_count": 7,
   "metadata": {},
   "outputs": [
    {
     "name": "stdout",
     "output_type": "stream",
     "text": [
      "There are 16895593 unigram tokens present in this corpus.\n"
     ]
    }
   ],
   "source": [
    "tokens_num = len(corpus_tokens)\n",
    "print('There are {} unigram tokens present in this corpus.'.format(tokens_num))"
   ]
  },
  {
   "cell_type": "markdown",
   "metadata": {},
   "source": [
    "#### 3. Produce a rank-frequency plot (similar to those seen on the Wikipedia page for Zipf's Law) for this corpus."
   ]
  },
  {
   "cell_type": "code",
   "execution_count": 5,
   "metadata": {},
   "outputs": [],
   "source": [
    "fdist = FreqDist(corpus_tokens)"
   ]
  },
  {
   "cell_type": "code",
   "execution_count": 11,
   "metadata": {},
   "outputs": [],
   "source": [
    "ranked_dist = fdist.most_common()\n",
    "freq_log = []\n",
    "rank_log = []\n",
    "\n",
    "# Get the logs of frequencies and ranks\n",
    "for rank, freq in enumerate(ranked_dist):\n",
    "    # Compute the logs of frq and rank\n",
    "    log_f = math.log10(freq[1])\n",
    "    log_r = math.log10(rank + 1)\n",
    "    \n",
    "    # Append to the lists\n",
    "    freq_log.append(log_f)\n",
    "    rank_log.append(log_r)"
   ]
  },
  {
   "cell_type": "code",
   "execution_count": 12,
   "metadata": {},
   "outputs": [
    {
     "data": {
      "text/plain": [
       "Text(0, 0.5, 'log(frequency)')"
      ]
     },
     "execution_count": 12,
     "metadata": {},
     "output_type": "execute_result"
    },
    {
     "data": {
      "image/png": "[encoded data removed]",
      "text/plain": [
       "<Figure size 432x288 with 1 Axes>"
      ]
     },
     "metadata": {
      "needs_background": "light"
     },
     "output_type": "display_data"
    }
   ],
   "source": [
    "plt.plot(rank_log, freq_log)\n",
    "plt.title(\"Zipf's Law Rank-frequency plot\")\n",
    "plt.xlabel('log(rank)')\n",
    "plt.ylabel('log(frequency)')"
   ]
  },
  {
   "cell_type": "markdown",
   "metadata": {},
   "source": [
    "#### 4. What are the twenty most common words?"
   ]
  },
  {
   "cell_type": "code",
   "execution_count": 13,
   "metadata": {},
   "outputs": [
    {
     "name": "stdout",
     "output_type": "stream",
     "text": [
      "The twenty most common words are: ['THE', 'TO', 'OF', 'AND', 'IN', 'A', 'THAT', 'TAIWAN', \"'S\", 'SAID', 'FOR', 'ON', 'WILL', 'WITH', 'IS', '``', 'AT', 'AS', 'BY', 'HE']\n"
     ]
    }
   ],
   "source": [
    "most_common_20 = [word[0] for word in fdist.most_common(20)]\n",
    "print('The twenty most common words are: {}'.format(most_common_20))"
   ]
  },
  {
   "cell_type": "markdown",
   "metadata": {},
   "source": [
    "#### 5. What happens to your type/token counts if you remove stopwords using nltk.corpora's stopwords list?"
   ]
  },
  {
   "cell_type": "code",
   "execution_count": 9,
   "metadata": {},
   "outputs": [],
   "source": [
    "stop_words = set(stopwords.words('english'))\n",
    "cleaned_corpus_tokens = [t for t in corpus_tokens if t.lower() not in stop_words]"
   ]
  },
  {
   "cell_type": "code",
   "execution_count": 10,
   "metadata": {},
   "outputs": [
    {
     "name": "stdout",
     "output_type": "stream",
     "text": [
      "There are 143329 unique types in this corpus.\n"
     ]
    }
   ],
   "source": [
    "distinct_words = set(cleaned_corpus_tokens)\n",
    "distinct_words_num = len(distinct_words)\n",
    "print('There are {} unique types in this corpus.'.format(distinct_words_num))"
   ]
  },
  {
   "cell_type": "code",
   "execution_count": 15,
   "metadata": {},
   "outputs": [
    {
     "name": "stdout",
     "output_type": "stream",
     "text": [
      "There are 10514319 unique types in this corpus with stopwords removed.\n"
     ]
    }
   ],
   "source": [
    "distinct_words_num = len(cleaned_corpus_tokens)\n",
    "print('There are {} unique types in this corpus with stopwords removed.'.format(distinct_words_num))"
   ]
  },
  {
   "cell_type": "markdown",
   "metadata": {},
   "source": [
    "#### 6. After removing stopwords, what are the 20 most common words?"
   ]
  },
  {
   "cell_type": "code",
   "execution_count": 16,
   "metadata": {},
   "outputs": [],
   "source": [
    "cleaned_fdist = FreqDist(cleaned_corpus_tokens)"
   ]
  },
  {
   "cell_type": "code",
   "execution_count": 17,
   "metadata": {},
   "outputs": [
    {
     "name": "stdout",
     "output_type": "stream",
     "text": [
      "The twenty most common words are: ['TAIWAN', \"'S\", 'SAID', '``', \"''\", 'CHINA', 'PERCENT', 'GOVERNMENT', 'ALSO', 'CHEN', 'PRESIDENT', 'YEAR', 'TAIPEI', 'NT', 'TWO', 'MAINLAND', 'PEOPLE', 'US', 'NEW', 'CHINESE'] with stopwords removed.\n"
     ]
    }
   ],
   "source": [
    "most_common_20 = [word[0] for word in cleaned_fdist.most_common(20)]\n",
    "print('The twenty most common words are: {} with stopwords removed.'.format(most_common_20))"
   ]
  },
  {
   "cell_type": "markdown",
   "metadata": {},
   "source": [
    "#### Word association metrics"
   ]
  },
  {
   "cell_type": "markdown",
   "metadata": {},
   "source": [
    "#### Recalling Emily Bender's sage advice- \"Look at your data!\"- examine the 30 highest-PMI word pairs, along with their unigram and bigram frequencies. What do you notice?"
   ]
  },
  {
   "cell_type": "code",
   "execution_count": 6,
   "metadata": {},
   "outputs": [],
   "source": [
    "word_pair = [' '.join([pair[0], pair[1]]) for pair in bigrams(corpus_tokens)]\n",
    "pair_fdist = FreqDist(word_pair)"
   ]
  },
  {
   "cell_type": "code",
   "execution_count": 7,
   "metadata": {},
   "outputs": [],
   "source": [
    "\n",
    "\n",
    "pmi = {}\n",
    "tokens_num = len(corpus_tokens)\n",
    "\n",
    "for pair in word_pair:\n",
    "    # Get the freq of the pair\n",
    "    w1w2_freq = pair_fdist.get(pair)\n",
    "    \n",
    "    # Only consider bigrams that occur with frequency above that threshold\n",
    "    if w1w2_freq :\n",
    "        pair_split = pair.split(' ')\n",
    "        \n",
    "        # Get the freq of each of the words pair\n",
    "        w1_freq = fdist.get(pair_split[0])\n",
    "        w2_freq = fdist.get(pair_split[1])\n",
    "        \n",
    "        # Compute the unigram probabilities in the corpus\n",
    "        p_w1 = w1_freq / tokens_num\n",
    "        p_w2 = w2_freq / tokens_num\n",
    "        \n",
    "        # Compute the bigram probability\n",
    "        p_w1w2 = w1w2_freq / w1_freq\n",
    "    \n",
    "        # PMI(w1,w2)=P(w1,w2)/P(w1)P(w2)\n",
    "        pmi[pair] = np.log2(p_w1w2 / (p_w1 * p_w2))"
   ]
  },
  {
   "cell_type": "code",
   "execution_count": 8,
   "metadata": {},
   "outputs": [
    {
     "name": "stdout",
     "output_type": "stream",
     "text": [
      "The 30 highest-PMI word pairs are: ['HANNES FARLEITER', 'FREIE DEMOKRATISCHE', 'CEP006 10-03-97', 'NICOSIA GORGIE', 'GORGIE MURADOV', 'CAUSUS BELLI', 'HARDCOVER GILT-EDGED', 'FAYEZ ZAWARNEH', 'CEP002 10-07-97', 'NN1 NN2', 'TULAGA MANUELLA', 'LUCILLE ROYBAL-ALLARD', 'HALLDOR ASGRIMSSON', 'WAHYO DJATMIKO', 'FLAVONOID SPONIN', 'ZCCZ CEP007', 'CEP007 10-10-97', 'FRIEDRICH NAUMANN', 'ANDRIS AMERIKS', 'GERMANIC MANHOOD', 'ZAIMAN NURMATIAS', 'ESTRADE OYUELA', 'TOFILAU ETI', 'STEPAN KERKYASHARIAN', 'ARY MARDJONO', 'MESUT YILMAZ', 'SIX-CYLINDER 6.8-LITER', 'BACRE WALY', 'AFTERTAX WRITEDOWN', 'HISAO KANAMORI'].\n"
     ]
    }
   ],
   "source": [
    "pmi_sorted = sorted(pmi, key=pmi.get, reverse=True)\n",
    "top_30 = pmi_sorted[:30]\n",
    "print('The 30 highest-PMI word pairs are: {}.'.format(top_30))"
   ]
  },
  {
   "cell_type": "code",
   "execution_count": 11,
   "metadata": {},
   "outputs": [
    {
     "name": "stdout",
     "output_type": "stream",
     "text": [
      "The 30 highest-PMI word pairs and their frequencies: Counter({'HANNES FARLEITER': 1, 'FREIE DEMOKRATISCHE': 1, 'CEP006 10-03-97': 1, 'NICOSIA GORGIE': 1, 'GORGIE MURADOV': 1, 'CAUSUS BELLI': 1, 'HARDCOVER GILT-EDGED': 1, 'FAYEZ ZAWARNEH': 1, 'CEP002 10-07-97': 1, 'NN1 NN2': 1, 'TULAGA MANUELLA': 1, 'LUCILLE ROYBAL-ALLARD': 1, 'HALLDOR ASGRIMSSON': 1, 'WAHYO DJATMIKO': 1, 'FLAVONOID SPONIN': 1, 'ZCCZ CEP007': 1, 'CEP007 10-10-97': 1, 'FRIEDRICH NAUMANN': 1, 'ANDRIS AMERIKS': 1, 'GERMANIC MANHOOD': 1, 'ZAIMAN NURMATIAS': 1, 'ESTRADE OYUELA': 1, 'TOFILAU ETI': 1, 'STEPAN KERKYASHARIAN': 1, 'ARY MARDJONO': 1, 'MESUT YILMAZ': 1, 'SIX-CYLINDER 6.8-LITER': 1, 'BACRE WALY': 1, 'AFTERTAX WRITEDOWN': 1, 'HISAO KANAMORI': 1}).\n"
     ]
    }
   ],
   "source": [
    "count_unigram_top30 = top_30\n",
    "#compute the frequency count\n",
    "freq_unigram = collections.Counter(count_unigram_top30)\n",
    "print('The 30 highest-PMI word pairs and their frequencies: {}.'.format(freq_unigram))"
   ]
  },
  {
   "cell_type": "code",
   "execution_count": 12,
   "metadata": {},
   "outputs": [
    {
     "name": "stdout",
     "output_type": "stream",
     "text": [
      "The 30 highest-PMI word pairs and their bigramfrequencies: Counter({('HANNES FARLEITER', 'FREIE DEMOKRATISCHE'): 1, ('FREIE DEMOKRATISCHE', 'CEP006 10-03-97'): 1, ('CEP006 10-03-97', 'NICOSIA GORGIE'): 1, ('NICOSIA GORGIE', 'GORGIE MURADOV'): 1, ('GORGIE MURADOV', 'CAUSUS BELLI'): 1, ('CAUSUS BELLI', 'HARDCOVER GILT-EDGED'): 1, ('HARDCOVER GILT-EDGED', 'FAYEZ ZAWARNEH'): 1, ('FAYEZ ZAWARNEH', 'CEP002 10-07-97'): 1, ('CEP002 10-07-97', 'NN1 NN2'): 1, ('NN1 NN2', 'TULAGA MANUELLA'): 1, ('TULAGA MANUELLA', 'LUCILLE ROYBAL-ALLARD'): 1, ('LUCILLE ROYBAL-ALLARD', 'HALLDOR ASGRIMSSON'): 1, ('HALLDOR ASGRIMSSON', 'WAHYO DJATMIKO'): 1, ('WAHYO DJATMIKO', 'FLAVONOID SPONIN'): 1, ('FLAVONOID SPONIN', 'ZCCZ CEP007'): 1, ('ZCCZ CEP007', 'CEP007 10-10-97'): 1, ('CEP007 10-10-97', 'FRIEDRICH NAUMANN'): 1, ('FRIEDRICH NAUMANN', 'ANDRIS AMERIKS'): 1, ('ANDRIS AMERIKS', 'GERMANIC MANHOOD'): 1, ('GERMANIC MANHOOD', 'ZAIMAN NURMATIAS'): 1, ('ZAIMAN NURMATIAS', 'ESTRADE OYUELA'): 1, ('ESTRADE OYUELA', 'TOFILAU ETI'): 1, ('TOFILAU ETI', 'STEPAN KERKYASHARIAN'): 1, ('STEPAN KERKYASHARIAN', 'ARY MARDJONO'): 1, ('ARY MARDJONO', 'MESUT YILMAZ'): 1, ('MESUT YILMAZ', 'SIX-CYLINDER 6.8-LITER'): 1, ('SIX-CYLINDER 6.8-LITER', 'BACRE WALY'): 1, ('BACRE WALY', 'AFTERTAX WRITEDOWN'): 1, ('AFTERTAX WRITEDOWN', 'HISAO KANAMORI'): 1}).\n"
     ]
    }
   ],
   "source": [
    "#get the bigrams\n",
    "count_bigram = nltk.bigrams(top_30)\n",
    "#compute the frequency count\n",
    "freq_bigram = collections.Counter(count_bigram)\n",
    "print('The 30 highest-PMI word pairs and their bigramfrequencies: {}.'.format(freq_bigram))"
   ]
  },
  {
   "cell_type": "markdown",
   "metadata": {},
   "source": [
    "#### Experiment with a few different threshold values, and report on what you observe"
   ]
  },
  {
   "cell_type": "code",
   "execution_count": 24,
   "metadata": {},
   "outputs": [],
   "source": [
    "# Experiment with a few different threshold values, and report on what you observe.\n",
    "pmi_threshold = 250\n",
    "pmi = {}\n",
    "tokens_num = len(corpus_tokens)\n",
    "\n",
    "for pair in word_pair:\n",
    "    # Get the freq of the pair\n",
    "    w1w2_freq = pair_fdist.get(pair)\n",
    "    \n",
    "    # Only consider bigrams that occur with frequency above that threshold\n",
    "    if w1w2_freq > pmi_threshold:\n",
    "        pair_split = pair.split(' ')\n",
    "        \n",
    "        # Get the freq of each of the words pair\n",
    "        w1_freq = fdist.get(pair_split[0])\n",
    "        w2_freq = fdist.get(pair_split[1])\n",
    "        \n",
    "        # Compute the unigram probabilities in the corpus\n",
    "        p_w1 = w1_freq / tokens_num\n",
    "        p_w2 = w2_freq / tokens_num\n",
    "        \n",
    "        # Compute the bigram probability\n",
    "        p_w1w2 = w1w2_freq / w1_freq\n",
    "    \n",
    "        # PMI(w1,w2)=P(w1,w2)/P(w1)P(w2)\n",
    "        pmi[pair] = np.log2(p_w1w2 / (p_w1 * p_w2))"
   ]
  },
  {
   "cell_type": "code",
   "execution_count": 21,
   "metadata": {},
   "outputs": [
    {
     "data": {
      "text/plain": [
       "{'MAINLAND CHINESE': 15.181887038998138,\n",
       " 'CHINESE FOREIGN': 9.818584337676839,\n",
       " 'FOREIGN MINISTER': 15.97854370146625,\n",
       " 'MINISTER QIAN': 16.414909107940556,\n",
       " 'QIAN QICHEN': 32.07694156526419}"
      ]
     },
     "execution_count": 21,
     "metadata": {},
     "output_type": "execute_result"
    }
   ],
   "source": [
    "# effect of threshold on pmi value 10\n",
    "\n",
    "pmi_pairs = {i: pmi[i] for i in list(pmi)[:5]}\n",
    "pmi_pairs"
   ]
  },
  {
   "cell_type": "code",
   "execution_count": 23,
   "metadata": {},
   "outputs": [
    {
     "data": {
      "text/plain": [
       "{'MAINLAND CHINESE': 15.181887038998138,\n",
       " 'FOREIGN MINISTER': 15.97854370146625,\n",
       " 'QIAN QICHEN': 32.07694156526419,\n",
       " 'OF THE': 7.096688163156798,\n",
       " 'THE CONTENT': 5.848686511868097}"
      ]
     },
     "execution_count": 23,
     "metadata": {},
     "output_type": "execute_result"
    }
   ],
   "source": [
    "# effect of threshold on pmi value 100\n",
    "\n",
    "pmi_pairs = {i: pmi[i] for i in list(pmi)[:5]}\n",
    "pmi_pairs"
   ]
  },
  {
   "cell_type": "code",
   "execution_count": 25,
   "metadata": {},
   "outputs": [
    {
     "data": {
      "text/plain": [
       "{'MAINLAND CHINESE': 15.181887038998138,\n",
       " 'FOREIGN MINISTER': 15.97854370146625,\n",
       " 'OF THE': 7.096688163156798,\n",
       " 'THE CONTENT': 5.848686511868097,\n",
       " 'CONTENT OF': 17.72626467042274}"
      ]
     },
     "execution_count": 25,
     "metadata": {},
     "output_type": "execute_result"
    }
   ],
   "source": [
    "# effect of threshold on pmi value 250\n",
    "\n",
    "pmi_pairs = {i: pmi[i] for i in list(pmi)[:5]}\n",
    "pmi_pairs"
   ]
  },
  {
   "cell_type": "markdown",
   "metadata": {},
   "source": [
    "#### With a threshold of 100, what are the 10 highest-PMI word pairs?"
   ]
  },
  {
   "cell_type": "code",
   "execution_count": 14,
   "metadata": {},
   "outputs": [
    {
     "name": "stdout",
     "output_type": "stream",
     "text": [
      "The 10 highest-PMI word pairs are: ['SPONGIFORM ENCEPHALOPATHY', 'YING- JEOU', 'BOVINE SPONGIFORM', 'ALMA MATER', 'SRI LANKA', 'BARACK OBAMA', 'KUALA LUMPUR', 'SAO TOME', 'AU OPTRONICS', 'SYMPHONY ORCHESTRA'].\n"
     ]
    }
   ],
   "source": [
    "pmi_sorted = sorted(pmi, key=pmi.get, reverse=True)\n",
    "top_10 = pmi_sorted[:10]\n",
    "print('The 10 highest-PMI word pairs are: {}.'.format(top_10))"
   ]
  },
  {
   "cell_type": "markdown",
   "metadata": {},
   "source": [
    "#### Examine the PMI for \"New York\". Explain in your own words why it is not higher."
   ]
  },
  {
   "cell_type": "code",
   "execution_count": 15,
   "metadata": {},
   "outputs": [
    {
     "name": "stdout",
     "output_type": "stream",
     "text": [
      "The PMI for \"New York\" is: 18.14142879368312.\n"
     ]
    }
   ],
   "source": [
    "ny_pmi = pmi['NEW YORK']\n",
    "print('The PMI for \"New York\" is: {}.'.format(ny_pmi))"
   ]
  },
  {
   "cell_type": "code",
   "execution_count": 18,
   "metadata": {},
   "outputs": [
    {
     "data": {
      "text/plain": [
       "31251"
      ]
     },
     "execution_count": 18,
     "metadata": {},
     "output_type": "execute_result"
    }
   ],
   "source": [
    "fdist.get('NEW')"
   ]
  },
  {
   "cell_type": "code",
   "execution_count": 19,
   "metadata": {},
   "outputs": [
    {
     "data": {
      "text/plain": [
       "1949"
      ]
     },
     "execution_count": 19,
     "metadata": {},
     "output_type": "execute_result"
    }
   ],
   "source": [
    "fdist.get('YORK')"
   ]
  }
 ],
 "metadata": {
  "kernelspec": {
   "display_name": "Python 3",
   "language": "python",
   "name": "python3"
  },
  "language_info": {
   "codemirror_mode": {
    "name": "ipython",
    "version": 3
   },
   "file_extension": ".py",
   "mimetype": "text/x-python",
   "name": "python",
   "nbconvert_exporter": "python",
   "pygments_lexer": "ipython3",
   "version": "3.6.7"
  }
 },
 "nbformat": 4,
 "nbformat_minor": 2
}

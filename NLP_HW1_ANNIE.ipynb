{
 "cells": [
  {
   "cell_type": "code",
   "execution_count": 1,
   "metadata": {},
   "outputs": [],
   "source": [
    "import string\n",
    "import math\n",
    "import numpy as np\n",
    "from matplotlib import pyplot as plt\n",
    "\n",
    "import nltk, collections\n",
    "from nltk import word_tokenize, sent_tokenize, bigrams\n",
    "from nltk.util import ngrams\n",
    "\n",
    "from nltk.probability import FreqDist\n",
    "from nltk.corpus import stopwords"
   ]
  },
  {
   "cell_type": "code",
   "execution_count": 2,
   "metadata": {},
   "outputs": [
    {
     "name": "stderr",
     "output_type": "stream",
     "text": [
      "[nltk_data] Downloading package punkt to\n",
      "[nltk_data]     C:\\Users\\Annie2016\\AppData\\Roaming\\nltk_data...\n",
      "[nltk_data]   Package punkt is already up-to-date!\n"
     ]
    },
    {
     "data": {
      "text/plain": [
       "True"
      ]
     },
     "execution_count": 2,
     "metadata": {},
     "output_type": "execute_result"
    }
   ],
   "source": [
    "#  NLTK Downloader to obtain the resource:\n",
    "nltk.download('punkt')"
   ]
  },
  {
   "cell_type": "markdown",
   "metadata": {},
   "source": [
    "### 1: Structuring the data"
   ]
  },
  {
   "cell_type": "markdown",
   "metadata": {},
   "source": [
    "#### Loading the raw data and constitute the data into a one-line-per-sentence format\n"
   ]
  },
  {
   "cell_type": "code",
   "execution_count": 2,
   "metadata": {},
   "outputs": [],
   "source": [
    "filename = 'output.txt'\n",
    "\n",
    "with open(filename, 'r') as file:\n",
    "    # Read all text lines at once\n",
    "    lines = file.read()\n",
    "    # Replace New-line character with space character\n",
    "    stripped = lines.replace('\\n', ' ')\n",
    "    # Make sentence tokens from the text\n",
    "    sentences = sent_tokenize(stripped)"
   ]
  },
  {
   "cell_type": "code",
   "execution_count": 4,
   "metadata": {},
   "outputs": [
    {
     "data": {
      "text/plain": [
       "[\"Mainland Chinese Foreign Minister Qian Qichen was highly skeptical of Tokyo's explanations of the content of the newly published US-Japan guidelines for defense cooperation when he met Monday in Beijing with representatives of Japan's press.\",\n",
       " 'Qian also said the time is not ripe yet for a trilateral official dialogue among Washington, Beijing and Tokyo on defense, adding that \"scholarly discussion\" would be appropriate at the present.',\n",
       " \"Qian's remarks indicate that despite explanations of the new guidelines by Japanese Prime Minister Ryutaro Hashimoto and Foreign Minister Keizo Obuchi, Beijing is still very worried about whether Taiwan falls within the sphere of the bilateral defense agreement.\",\n",
       " \"According to reports in the Japanese media, among Qian's concerns are:  -- If the defense pact is a matter between Washington and Tokyo, it should be unnecessary to renew it, hence putting its content into doubt.\",\n",
       " '-- Although the new guidelines do not specifically mention geographic criteria, there is still speculation that they cover Taiwan.']"
      ]
     },
     "execution_count": 4,
     "metadata": {},
     "output_type": "execute_result"
    }
   ],
   "source": [
    "sentences[:5]"
   ]
  },
  {
   "cell_type": "markdown",
   "metadata": {},
   "source": [
    "#### Break sentences into words, remove punctuations, and transform to uppercase "
   ]
  },
  {
   "cell_type": "code",
   "execution_count": 3,
   "metadata": {},
   "outputs": [],
   "source": [
    "# Get all punctuations\n",
    "punct_set = set(string.punctuation)\n",
    "corpus = []\n",
    "\n",
    "for sentence in sentences:\n",
    "    tokens = word_tokenize(sentence.upper())\n",
    "    no_punct_toks = [t for t in tokens if t not in punct_set]\n",
    "    corpus.append(no_punct_toks)"
   ]
  },
  {
   "cell_type": "markdown",
   "metadata": {},
   "source": [
    "#### 1. How many sentences are there in the given corpus?"
   ]
  },
  {
   "cell_type": "code",
   "execution_count": 5,
   "metadata": {},
   "outputs": [
    {
     "name": "stdout",
     "output_type": "stream",
     "text": [
      "There are 579780 sentences in this corpus.\n"
     ]
    }
   ],
   "source": [
    "sentences_num = len(corpus)\n",
    "print('There are {} sentences in this corpus.'.format(sentences_num))"
   ]
  },
  {
   "cell_type": "markdown",
   "metadata": {},
   "source": [
    "### 2: Counting and comparing"
   ]
  },
  {
   "cell_type": "code",
   "execution_count": 4,
   "metadata": {},
   "outputs": [],
   "source": [
    "# Combine all the tokens in the corpus\n",
    "corpus_tokens = []\n",
    "for sentence in corpus:\n",
    "    corpus_tokens += sentence"
   ]
  },
  {
   "cell_type": "markdown",
   "metadata": {},
   "source": [
    "#### Unigram frequency count of each word"
   ]
  },
  {
   "cell_type": "code",
   "execution_count": 26,
   "metadata": {},
   "outputs": [
    {
     "data": {
      "text/plain": [
       "[('THE', 1219284), ('TO', 511910), ('OF', 505728)]"
      ]
     },
     "execution_count": 26,
     "metadata": {},
     "output_type": "execute_result"
    }
   ],
   "source": [
    "#get the bigrams\n",
    "count_unigram = corpus_tokens\n",
    "#compute the frequency count\n",
    "freq_unigram = collections.Counter(count_unigram)\n",
    "#Have just printed the three common unigrams,the computer hangs otherwise\n",
    "freq_unigram.most_common(3)"
   ]
  },
  {
   "cell_type": "markdown",
   "metadata": {},
   "source": [
    "#### Bigram frequency count of each word"
   ]
  },
  {
   "cell_type": "code",
   "execution_count": 22,
   "metadata": {},
   "outputs": [
    {
     "data": {
      "text/plain": [
       "[(('OF', 'THE'), 149523), (('IN', 'THE'), 96264), (('TO', 'THE'), 59287)]"
      ]
     },
     "execution_count": 22,
     "metadata": {},
     "output_type": "execute_result"
    }
   ],
   "source": [
    "#get the bigrams\n",
    "count_bigram = nltk.bigrams(corpus_tokens)\n",
    "#compute the frequency count\n",
    "freq_bigram = collections.Counter(count_bigram)\n",
    "#Have just printed the three common bigrams,the computer hangs otherwise\n",
    "freq_bigram.most_common(3)"
   ]
  },
  {
   "cell_type": "markdown",
   "metadata": {},
   "source": [
    "#### 1. How many unique types are present in this corpus?"
   ]
  },
  {
   "cell_type": "code",
   "execution_count": 6,
   "metadata": {},
   "outputs": [],
   "source": [
    "# Combine all the tokens in the corpus\n",
    "corpus_tokens = []\n",
    "for sentence in corpus:\n",
    "    corpus_tokens += sentence"
   ]
  },
  {
   "cell_type": "code",
   "execution_count": 6,
   "metadata": {},
   "outputs": [
    {
     "name": "stdout",
     "output_type": "stream",
     "text": [
      "There are 143467 unique types in this corpus.\n"
     ]
    }
   ],
   "source": [
    "distinct_words = set(corpus_tokens)\n",
    "distinct_words_num = len(distinct_words)\n",
    "print('There are {} unique types in this corpus.'.format(distinct_words_num))"
   ]
  },
  {
   "cell_type": "markdown",
   "metadata": {},
   "source": [
    "#### 2. How about unigram tokens?"
   ]
  },
  {
   "cell_type": "code",
   "execution_count": 7,
   "metadata": {},
   "outputs": [
    {
     "name": "stdout",
     "output_type": "stream",
     "text": [
      "There are 16895593 unigram tokens present in this corpus.\n"
     ]
    }
   ],
   "source": [
    "tokens_num = len(corpus_tokens)\n",
    "print('There are {} unigram tokens present in this corpus.'.format(tokens_num))"
   ]
  },
  {
   "cell_type": "markdown",
   "metadata": {},
   "source": [
    "#### 3. Produce a rank-frequency plot (similar to those seen on the Wikipedia page for Zipf's Law) for this corpus."
   ]
  },
  {
   "cell_type": "code",
   "execution_count": 5,
   "metadata": {},
   "outputs": [],
   "source": [
    "fdist = FreqDist(corpus_tokens)"
   ]
  },
  {
   "cell_type": "code",
   "execution_count": 11,
   "metadata": {},
   "outputs": [],
   "source": [
    "ranked_dist = fdist.most_common()\n",
    "freq_log = []\n",
    "rank_log = []\n",
    "\n",
    "# Get the logs of frequencies and ranks\n",
    "for rank, freq in enumerate(ranked_dist):\n",
    "    # Compute the logs of frq and rank\n",
    "    log_f = math.log10(freq[1])\n",
    "    log_r = math.log10(rank + 1)\n",
    "    \n",
    "    # Append to the lists\n",
    "    freq_log.append(log_f)\n",
    "    rank_log.append(log_r)"
   ]
  },
  {
   "cell_type": "code",
   "execution_count": 12,
   "metadata": {},
   "outputs": [
    {
     "data": {
      "text/plain": [
       "Text(0, 0.5, 'log(frequency)')"
      ]
     },
     "execution_count": 12,
     "metadata": {},
     "output_type": "execute_result"
    },
    {
     "data": {
      "image/png": "[encoded data removed]",
      "text/plain": [
       "<Figure size 432x288 with 1 Axes>"
      ]
     },
     "metadata": {
      "needs_background": "light"
     },
     "output_type": "display_data"
    }
   ],
   "source": [
    "plt.plot(rank_log, freq_log)\n",
    "plt.title(\"Zipf's Law Rank-frequency plot\")\n",
    "plt.xlabel('log(rank)')\n",
    "plt.ylabel('log(frequency)')"
   ]
  },
  {
   "cell_type": "markdown",
   "metadata": {},
   "source": [
    "#### 4. What are the twenty most common words?"
   ]
  },
  {
   "cell_type": "code",
   "execution_count": 13,
   "metadata": {},
   "outputs": [
    {
     "name": "stdout",
     "output_type": "stream",
     "text": [
      "The twenty most common words are: ['THE', 'TO', 'OF', 'AND', 'IN', 'A', 'THAT', 'TAIWAN', \"'S\", 'SAID', 'FOR', 'ON', 'WILL', 'WITH', 'IS', '``', 'AT', 'AS', 'BY', 'HE']\n"
     ]
    }
   ],
   "source": [
    "most_common_20 = [word[0] for word in fdist.most_common(20)]\n",
    "print('The twenty most common words are: {}'.format(most_common_20))"
   ]
  },
  {
   "cell_type": "markdown",
   "metadata": {},
   "source": [
    "#### 5. What happens to your type/token counts if you remove stopwords using nltk.corpora's stopwords list?"
   ]
  },
  {
   "cell_type": "code",
   "execution_count": 9,
   "metadata": {},
   "outputs": [],
   "source": [
    "stop_words = set(stopwords.words('english'))\n",
    "cleaned_corpus_tokens = [t for t in corpus_tokens if t.lower() not in stop_words]"
   ]
  },
  {
   "cell_type": "code",
   "execution_count": 10,
   "metadata": {},
   "outputs": [
    {
     "name": "stdout",
     "output_type": "stream",
     "text": [
      "There are 143329 unique types in this corpus.\n"
     ]
    }
   ],
   "source": [
    "distinct_words = set(cleaned_corpus_tokens)\n",
    "distinct_words_num = len(distinct_words)\n",
    "print('There are {} unique types in this corpus.'.format(distinct_words_num))"
   ]
  },
  {
   "cell_type": "code",
   "execution_count": 15,
   "metadata": {},
   "outputs": [
    {
     "name": "stdout",
     "output_type": "stream",
     "text": [
      "There are 10514319 unique types in this corpus with stopwords removed.\n"
     ]
    }
   ],
   "source": [
    "distinct_words_num = len(cleaned_corpus_tokens)\n",
    "print('There are {} unique types in this corpus with stopwords removed.'.format(distinct_words_num))"
   ]
  },
  {
   "cell_type": "markdown",
   "metadata": {},
   "source": [
    "#### 6. After removing stopwords, what are the 20 most common words?"
   ]
  },
  {
   "cell_type": "code",
   "execution_count": 16,
   "metadata": {},
   "outputs": [],
   "source": [
    "cleaned_fdist = FreqDist(cleaned_corpus_tokens)"
   ]
  },
  {
   "cell_type": "code",
   "execution_count": 17,
   "metadata": {},
   "outputs": [
    {
     "name": "stdout",
     "output_type": "stream",
     "text": [
      "The twenty most common words are: ['TAIWAN', \"'S\", 'SAID', '``', \"''\", 'CHINA', 'PERCENT', 'GOVERNMENT', 'ALSO', 'CHEN', 'PRESIDENT', 'YEAR', 'TAIPEI', 'NT', 'TWO', 'MAINLAND', 'PEOPLE', 'US', 'NEW', 'CHINESE'] with stopwords removed.\n"
     ]
    }
   ],
   "source": [
    "most_common_20 = [word[0] for word in cleaned_fdist.most_common(20)]\n",
    "print('The twenty most common words are: {} with stopwords removed.'.format(most_common_20))"
   ]
  },
  {
   "cell_type": "markdown",
   "metadata": {},
   "source": [
    "#### Word association metrics"
   ]
  },
  {
   "cell_type": "markdown",
   "metadata": {},
   "source": [
    "#### Recalling Emily Bender's sage advice- \"Look at your data!\"- examine the 30 highest-PMI word pairs, along with their unigram and bigram frequencies. What do you notice?"
   ]
  },
  {
   "cell_type": "code",
   "execution_count": 6,
   "metadata": {},
   "outputs": [],
   "source": [
    "word_pair = [' '.join([pair[0], pair[1]]) for pair in bigrams(corpus_tokens)]\n",
    "pair_fdist = FreqDist(word_pair)"
   ]
  },
  {
   "cell_type": "code",
   "execution_count": 7,
   "metadata": {},
   "outputs": [],
   "source": [
    "\n",
    "\n",
    "pmi = {}\n",
    "tokens_num = len(corpus_tokens)\n",
    "\n",
    "for pair in word_pair:\n",
    "    # Get the freq of the pair\n",
    "    w1w2_freq = pair_fdist.get(pair)\n",
    "    \n",
    "    # Only consider bigrams that occur with frequency above that threshold\n",
    "    if w1w2_freq :\n",
    "        pair_split = pair.split(' ')\n",
    "        \n",
    "        # Get the freq of each of the words pair\n",
    "        w1_freq = fdist.get(pair_split[0])\n",
    "        w2_freq = fdist.get(pair_split[1])\n",
    "        \n",
    "        # Compute the unigram probabilities in the corpus\n",
    "        p_w1 = w1_freq / tokens_num\n",
    "        p_w2 = w2_freq / tokens_num\n",
    "        \n",
    "        # Compute the bigram probability\n",
    "        p_w1w2 = w1w2_freq / w1_freq\n",
    "    \n",
    "        # PMI(w1,w2)=P(w1,w2)/P(w1)P(w2)\n",
    "        pmi[pair] = np.log2(p_w1w2 / (p_w1 * p_w2))"
   ]
  },
  {
   "cell_type": "code",
   "execution_count": 8,
   "metadata": {},
   "outputs": [
    {
     "name": "stdout",
     "output_type": "stream",
     "text": [
      "The 30 highest-PMI word pairs are: ['HANNES FARLEITER', 'FREIE DEMOKRATISCHE', 'CEP006 10-03-97', 'NICOSIA GORGIE', 'GORGIE MURADOV', 'CAUSUS BELLI', 'HARDCOVER GILT-EDGED', 'FAYEZ ZAWARNEH', 'CEP002 10-07-97', 'NN1 NN2', 'TULAGA MANUELLA', 'LUCILLE ROYBAL-ALLARD', 'HALLDOR ASGRIMSSON', 'WAHYO DJATMIKO', 'FLAVONOID SPONIN', 'ZCCZ CEP007', 'CEP007 10-10-97', 'FRIEDRICH NAUMANN', 'ANDRIS AMERIKS', 'GERMANIC MANHOOD', 'ZAIMAN NURMATIAS', 'ESTRADE OYUELA', 'TOFILAU ETI', 'STEPAN KERKYASHARIAN', 'ARY MARDJONO', 'MESUT YILMAZ', 'SIX-CYLINDER 6.8-LITER', 'BACRE WALY', 'AFTERTAX WRITEDOWN', 'HISAO KANAMORI'].\n"
     ]
    }
   ],
   "source": [
    "pmi_sorted = sorted(pmi, key=pmi.get, reverse=True)\n",
    "top_30 = pmi_sorted[:30]\n",
    "print('The 30 highest-PMI word pairs are: {}.'.format(top_30))"
   ]
  },
  {
   "cell_type": "code",
   "execution_count": 11,
   "metadata": {},
   "outputs": [
    {
     "name": "stdout",
     "output_type": "stream",
     "text": [
      "The 30 highest-PMI word pairs and their frequencies: Counter({'HANNES FARLEITER': 1, 'FREIE DEMOKRATISCHE': 1, 'CEP006 10-03-97': 1, 'NICOSIA GORGIE': 1, 'GORGIE MURADOV': 1, 'CAUSUS BELLI': 1, 'HARDCOVER GILT-EDGED': 1, 'FAYEZ ZAWARNEH': 1, 'CEP002 10-07-97': 1, 'NN1 NN2': 1, 'TULAGA MANUELLA': 1, 'LUCILLE ROYBAL-ALLARD': 1, 'HALLDOR ASGRIMSSON': 1, 'WAHYO DJATMIKO': 1, 'FLAVONOID SPONIN': 1, 'ZCCZ CEP007': 1, 'CEP007 10-10-97': 1, 'FRIEDRICH NAUMANN': 1, 'ANDRIS AMERIKS': 1, 'GERMANIC MANHOOD': 1, 'ZAIMAN NURMATIAS': 1, 'ESTRADE OYUELA': 1, 'TOFILAU ETI': 1, 'STEPAN KERKYASHARIAN': 1, 'ARY MARDJONO': 1, 'MESUT YILMAZ': 1, 'SIX-CYLINDER 6.8-LITER': 1, 'BACRE WALY': 1, 'AFTERTAX WRITEDOWN': 1, 'HISAO KANAMORI': 1}).\n"
     ]
    }
   ],
   "source": [
    "count_unigram_top30 = top_30\n",
    "#compute the frequency count\n",
    "freq_unigram = collections.Counter(count_unigram_top30)\n",
    "print('The 30 highest-PMI word pairs and their frequencies: {}.'.format(freq_unigram))"
   ]
  },
  {
   "cell_type": "code",
   "execution_count": 12,
   "metadata": {},
   "outputs": [
    {
     "name": "stdout",
     "output_type": "stream",
     "text": [
      "The 30 highest-PMI word pairs and their bigramfrequencies: Counter({('HANNES FARLEITER', 'FREIE DEMOKRATISCHE'): 1, ('FREIE DEMOKRATISCHE', 'CEP006 10-03-97'): 1, ('CEP006 10-03-97', 'NICOSIA GORGIE'): 1, ('NICOSIA GORGIE', 'GORGIE MURADOV'): 1, ('GORGIE MURADOV', 'CAUSUS BELLI'): 1, ('CAUSUS BELLI', 'HARDCOVER GILT-EDGED'): 1, ('HARDCOVER GILT-EDGED', 'FAYEZ ZAWARNEH'): 1, ('FAYEZ ZAWARNEH', 'CEP002 10-07-97'): 1, ('CEP002 10-07-97', 'NN1 NN2'): 1, ('NN1 NN2', 'TULAGA MANUELLA'): 1, ('TULAGA MANUELLA', 'LUCILLE ROYBAL-ALLARD'): 1, ('LUCILLE ROYBAL-ALLARD', 'HALLDOR ASGRIMSSON'): 1, ('HALLDOR ASGRIMSSON', 'WAHYO DJATMIKO'): 1, ('WAHYO DJATMIKO', 'FLAVONOID SPONIN'): 1, ('FLAVONOID SPONIN', 'ZCCZ CEP007'): 1, ('ZCCZ CEP007', 'CEP007 10-10-97'): 1, ('CEP007 10-10-97', 'FRIEDRICH NAUMANN'): 1, ('FRIEDRICH NAUMANN', 'ANDRIS AMERIKS'): 1, ('ANDRIS AMERIKS', 'GERMANIC MANHOOD'): 1, ('GERMANIC MANHOOD', 'ZAIMAN NURMATIAS'): 1, ('ZAIMAN NURMATIAS', 'ESTRADE OYUELA'): 1, ('ESTRADE OYUELA', 'TOFILAU ETI'): 1, ('TOFILAU ETI', 'STEPAN KERKYASHARIAN'): 1, ('STEPAN KERKYASHARIAN', 'ARY MARDJONO'): 1, ('ARY MARDJONO', 'MESUT YILMAZ'): 1, ('MESUT YILMAZ', 'SIX-CYLINDER 6.8-LITER'): 1, ('SIX-CYLINDER 6.8-LITER', 'BACRE WALY'): 1, ('BACRE WALY', 'AFTERTAX WRITEDOWN'): 1, ('AFTERTAX WRITEDOWN', 'HISAO KANAMORI'): 1}).\n"
     ]
    }
   ],
   "source": [
    "#get the bigrams\n",
    "count_bigram = nltk.bigrams(top_30)\n",
    "#compute the frequency count\n",
    "freq_bigram = collections.Counter(count_bigram)\n",
    "print('The 30 highest-PMI word pairs and their bigramfrequencies: {}.'.format(freq_bigram))"
   ]
  },
  {
   "cell_type": "markdown",
   "metadata": {},
   "source": [
    "#### Experiment with a few different threshold values, and report on what you observe"
   ]
  },
  {
   "cell_type": "code",
   "execution_count": 12,
   "metadata": {},
   "outputs": [],
   "source": [
    "# Experiment with a few different threshold values, and report on what you observe.\n",
    "pmi_threshold = 100\n",
    "pmi = {}\n",
    "tokens_num = len(corpus_tokens)\n",
    "\n",
    "for pair in word_pair:\n",
    "    # Get the freq of the pair\n",
    "    w1w2_freq = pair_fdist.get(pair)\n",
    "    \n",
    "    # Only consider bigrams that occur with frequency above that threshold\n",
    "    if w1w2_freq > pmi_threshold:\n",
    "        pair_split = pair.split(' ')\n",
    "        \n",
    "        # Get the freq of each of the words pair\n",
    "        w1_freq = fdist.get(pair_split[0])\n",
    "        w2_freq = fdist.get(pair_split[1])\n",
    "        \n",
    "        # Compute the unigram probabilities in the corpus\n",
    "        p_w1 = w1_freq / tokens_num\n",
    "        p_w2 = w2_freq / tokens_num\n",
    "        \n",
    "        # Compute the bigram probability\n",
    "        p_w1w2 = w1w2_freq / w1_freq\n",
    "    \n",
    "        # PMI(w1,w2)=P(w1,w2)/P(w1)P(w2)\n",
    "        pmi[pair] = np.log2(p_w1w2 / (p_w1 * p_w2))"
   ]
  },
  {
   "cell_type": "code",
   "execution_count": 13,
   "metadata": {},
   "outputs": [
    {
     "data": {
      "text/plain": [
       "{'MAINLAND CHINESE': 15.181887038998138,\n",
       " 'FOREIGN MINISTER': 15.97854370146625,\n",
       " 'QIAN QICHEN': 32.07694156526419,\n",
       " 'OF THE': 7.096688163156798,\n",
       " 'THE CONTENT': 5.848686511868097,\n",
       " 'CONTENT OF': 17.72626467042274,\n",
       " 'THE NEWLY': 6.519682652531516,\n",
       " 'GUIDELINES FOR': 18.052011768707725,\n",
       " 'WHEN HE': 14.82797977884742,\n",
       " 'HE MET': 12.23567901329909,\n",
       " 'MONDAY IN': 10.71221400838967,\n",
       " 'IN BEIJING': 7.829913768589968,\n",
       " 'WITH REPRESENTATIVES': 10.074375117560562,\n",
       " 'REPRESENTATIVES OF': 15.553916309449075,\n",
       " 'OF JAPAN': 5.838641409823901,\n",
       " \"JAPAN 'S\": 14.127484762436874,\n",
       " 'ALSO SAID': 11.309642841149184,\n",
       " 'SAID THE': 7.843759963103037,\n",
       " 'THE TIME': 4.555708391066538,\n",
       " 'TIME IS': 11.528432598071637,\n",
       " 'IS NOT': 11.372188988722597,\n",
       " 'FOR A': 8.351183421068486,\n",
       " 'BEIJING AND': 10.62636230838759,\n",
       " 'AND TOKYO': 7.460951805275668,\n",
       " 'ADDING THAT': 16.846522994165678,\n",
       " 'THAT ``': 7.64411865662817,\n",
       " 'WOULD BE': 15.119514048054548,\n",
       " 'AT THE': 9.523036631992653,\n",
       " 'THE PRESENT': 4.9680396734629495,\n",
       " \"'S REMARKS\": 9.998150645241795,\n",
       " 'INDICATE THAT': 20.51079498386535,\n",
       " 'THAT DESPITE': 8.982793224888326,\n",
       " 'THE NEW': 6.0543464595712155,\n",
       " 'BY JAPANESE': 9.614398469714752,\n",
       " 'JAPANESE PRIME': 19.072767797147904,\n",
       " 'PRIME MINISTER': 23.14048210923454,\n",
       " 'AND FOREIGN': 6.23484460562384,\n",
       " 'BEIJING IS': 11.996006942072913,\n",
       " 'IS STILL': 12.516668125895997,\n",
       " 'WORRIED ABOUT': 22.97374422232642,\n",
       " 'ABOUT WHETHER': 14.411873974635265,\n",
       " 'WHETHER TAIWAN': 13.145842818845741,\n",
       " 'WITHIN THE': 14.407514345707602,\n",
       " 'THE BILATERAL': 3.263153663228507,\n",
       " 'ACCORDING TO': 14.248342762858638,\n",
       " 'TO REPORTS': 6.158412592150065,\n",
       " 'IN THE': 7.389879792389954,\n",
       " 'THE JAPANESE': 5.964655042961221,\n",
       " \"'S CONCERNS\": 8.747465218273087,\n",
       " 'IF THE': 11.894485587849669,\n",
       " 'THE DEFENSE': 3.9075996061844567,\n",
       " 'PACT IS': 16.274977778576265,\n",
       " 'IS A': 9.25472430396235,\n",
       " 'A MATTER': 8.722955905087375,\n",
       " 'BETWEEN WASHINGTON': 13.552093174922113,\n",
       " 'WASHINGTON AND': 13.640046855903066,\n",
       " 'IT SHOULD': 11.451473016307482,\n",
       " 'SHOULD BE': 15.236539839577672,\n",
       " 'TO RENEW': 9.697538963097527,\n",
       " 'ALTHOUGH THE': 13.374256365213474,\n",
       " 'DO NOT': 17.36315828484342,\n",
       " 'THERE IS': 15.47204007290532,\n",
       " 'SPECULATION THAT': 19.184887629096472,\n",
       " 'THAT THEY': 9.645521694631567,\n",
       " 'TAIWAN --': 7.23865827649998,\n",
       " 'SOME HAVE': 11.20252729302602,\n",
       " 'RAISING THE': 16.38173238500628,\n",
       " 'WHILE OTHERS': 14.978371980695572,\n",
       " 'THE AMERICAN': 5.676596303247421,\n",
       " 'AMERICAN CHAMBER': 21.322345800161287,\n",
       " 'CHAMBER OF': 19.381565261189145,\n",
       " 'OF COMMERCE': 9.374933721787343,\n",
       " 'IN TAIPEI': 9.037060240525612,\n",
       " 'TAIPEI ON': 10.169515547368894,\n",
       " 'ON WEDNESDAY': 11.657552384444823,\n",
       " 'FOR AN': 8.18992781664559,\n",
       " 'AN EARLY': 12.054677556300387,\n",
       " 'CONCLUSION OF': 18.66993022589648,\n",
       " 'OF TRADE': 4.884255365707769,\n",
       " 'BETWEEN THE': 11.464885839713045,\n",
       " 'THE UNITED': 7.451716026251146,\n",
       " 'UNITED STATES': 19.50693793546371,\n",
       " 'STATES AND': 12.567262564070749,\n",
       " 'AND THE': 5.596645615769349,\n",
       " 'THE REPUBLIC': 6.855880359890836,\n",
       " 'REPUBLIC OF': 15.513067729351125,\n",
       " 'OF CHINA': 7.7538731148837625,\n",
       " 'CHINA ON': 8.706354095068845,\n",
       " 'TERMS FOR': 14.048347930577512,\n",
       " 'FOR TAIWAN': 8.150773443983283,\n",
       " 'TAIWAN TO': 6.069120730215331,\n",
       " 'TO JOIN': 9.631639808403886,\n",
       " 'JOIN THE': 15.402294523747525,\n",
       " 'THE WORLD': 7.072059826531,\n",
       " 'WORLD TRADE': 16.461032117500658,\n",
       " 'TRADE ORGANIZATION': 17.72489170739463,\n",
       " 'ORGANIZATION WTO': 20.786134173329565,\n",
       " 'TOLD A': 14.303192996405043,\n",
       " 'A NEWS': 10.043366024999633,\n",
       " 'NEWS CONFERENCE': 20.22580611334617,\n",
       " 'CONFERENCE THAT': 13.41456306562861,\n",
       " 'THAT ALL': 8.706290281011405,\n",
       " 'TALKS WILL': 13.400611093664013,\n",
       " 'WILL BE': 12.736093316521671,\n",
       " 'AS SOON': 13.389649099663568,\n",
       " 'SOON AS': 18.14787925705641,\n",
       " 'AS POSSIBLE': 12.991622692286645,\n",
       " 'POSSIBLE TO': 12.741118611722014,\n",
       " 'TO FACILITATE': 9.686108745673957,\n",
       " \"TAIWAN 'S\": 10.67556163453129,\n",
       " \"'S ENTRY\": 10.43454418459768,\n",
       " 'ENTRY TO': 15.302333838311382,\n",
       " 'TO THE': 5.72705137883641,\n",
       " 'THE GENEVA-BASED': 7.5604197038816,\n",
       " 'GENEVA-BASED WORLD': 25.80651952425088,\n",
       " 'TRADE REGULATORY': 18.480631752801386,\n",
       " 'REGULATORY BODY': 27.36867481332147,\n",
       " 'BUSINESS PEOPLE': 14.742423407820386,\n",
       " 'PEOPLE WITH': 9.953516553142778,\n",
       " 'INTERESTS IN': 14.972306003717653,\n",
       " 'IN TAIWAN': 7.893989697503674,\n",
       " 'TAIWAN ARE': 6.967199100383362,\n",
       " 'CONVINCED THAT': 21.486640672241922,\n",
       " 'THEY WILL': 12.74766294721149,\n",
       " 'WILL BENEFIT': 12.343597311115506,\n",
       " 'BENEFIT FROM': 18.925514227979455,\n",
       " 'FROM TAIWAN': 9.550444931902504,\n",
       " \"'S WTO\": 9.155504563445493,\n",
       " 'WTO ACCESSION': 22.40025996401001,\n",
       " 'BECAUSE TAIWAN': 11.014765332703012,\n",
       " 'TAIWAN WOULD': 7.555800709140254,\n",
       " 'BE REQUIRED': 13.011979050936198,\n",
       " 'REQUIRED TO': 17.417428491954627,\n",
       " 'TO FURTHER': 7.274859846425319,\n",
       " 'OPEN ITS': 16.185631773984685,\n",
       " 'ITS MARKET': 10.543437292272936,\n",
       " 'MARKET AND': 10.59072018043635,\n",
       " 'AND BETTER': 5.638012949199435,\n",
       " 'BETTER PROTECT': 19.77013847893861,\n",
       " 'INTELLECTUAL PROPERTY': 27.672023243241195,\n",
       " 'PROPERTY RIGHTS': 22.434061389273612,\n",
       " 'RETURNED FROM': 17.73197696398736,\n",
       " 'FROM A': 8.74641229760551,\n",
       " 'A ``': 7.521727498421045,\n",
       " 'VISIT TO': 13.126716423901165,\n",
       " 'TO WASHINGTON': 6.1021150422393795,\n",
       " 'WASHINGTON D.C.': 23.974857599227402,\n",
       " 'THE HEAD': 5.588303041388569,\n",
       " 'HEAD OF': 16.19700204218632,\n",
       " 'OF A': 5.837146817310119,\n",
       " 'THE US': 4.74159369164879,\n",
       " 'EXECUTIVE BRANCH': 19.648172706399087,\n",
       " 'AGREED WITH': 15.49411845938981,\n",
       " 'THAT TAIWAN': 8.176372796213558,\n",
       " 'SHOULD NOT': 14.644453458657113,\n",
       " 'NOT BE': 12.597762140699448,\n",
       " 'LINKED TO': 20.20289050019785,\n",
       " 'TO MAINLAND': 5.765897884914099,\n",
       " 'MAINLAND CHINA': 15.818815871311326,\n",
       " \"CHINA 'S\": 11.653803409804533,\n",
       " \"'S MEMBERSHIP\": 10.210929836577522,\n",
       " '`` WE': 13.041526009105038,\n",
       " 'AGREE THAT': 18.063931843091577,\n",
       " 'WTO ENTRY': 21.328310122130997,\n",
       " 'BE CONSIDERED': 13.08005162297814,\n",
       " 'ON THE': 8.927671787126664,\n",
       " 'THE BASIS': 5.6234771368528795,\n",
       " 'BASIS OF': 15.950410072371792,\n",
       " 'OF ITS': 7.088208077043319,\n",
       " 'ITS OWN': 14.806588993636145,\n",
       " 'SAID ADDING': 12.285752421202513,\n",
       " 'TAIWAN IS': 8.284077600389661,\n",
       " 'IS LIKELY': 12.770437923620943,\n",
       " 'LIKELY TO': 16.97641072512196,\n",
       " 'TO CONCLUDE': 9.469074045915534,\n",
       " 'CONSULTATIONS WITH': 19.14905169485672,\n",
       " 'WITH THE': 8.873169624692341,\n",
       " 'BEFORE THE': 12.441848589434846,\n",
       " 'THE END': 6.982641918842735,\n",
       " 'END OF': 15.508382265638682,\n",
       " 'OF BILATERAL': 6.690409419072337,\n",
       " 'TALKS BETWEEN': 16.88845412594411,\n",
       " 'AND BEIJING': 6.7570224145074675,\n",
       " 'DURING ITS': 12.038231755670157,\n",
       " 'STAY IN': 17.01887261264177,\n",
       " 'STATES THE': 9.207902567042431,\n",
       " 'MET WITH': 18.939276549170714,\n",
       " 'WITH MANY': 9.11848305796732,\n",
       " 'CLINTON ADMINISTRATION': 21.26937714947764,\n",
       " 'ADMINISTRATION OFFICIALS': 14.344275850693128,\n",
       " 'OFFICIALS AND': 10.625311647916554,\n",
       " 'MEMBERS TO': 11.352779735775073,\n",
       " 'TO EXCHANGE': 6.158056593738124,\n",
       " 'EXCHANGE VIEWS': 18.964509505742992,\n",
       " 'VIEWS ON': 18.14684150330335,\n",
       " 'WAYS TO': 18.10270250945876,\n",
       " 'TO HELP': 9.216683899247762,\n",
       " 'UPGRADE THEIR': 18.789404020959015,\n",
       " 'AGENCIES TO': 14.723041550573534,\n",
       " 'TO ALLOW': 9.182335379490471,\n",
       " 'SENIOR OFFICIALS': 17.787440964652504,\n",
       " 'OFFICIALS TO': 9.69550647618569,\n",
       " 'TO MAKE': 9.134797779074704,\n",
       " 'VISITS TO': 16.662831256810946,\n",
       " 'TO TAIWAN': 6.069527191038474,\n",
       " 'HELP BOOST': 17.537021989965957,\n",
       " 'BOOST BILATERAL': 20.477730611982082,\n",
       " 'BILATERAL TRADE': 18.67563682737174,\n",
       " 'TRADE AND': 11.99484261040692,\n",
       " 'AND ECONOMIC': 6.99374506160189,\n",
       " 'ECONOMIC COOPERATION': 16.704390624839416,\n",
       " 'EVEN THOUGH': 21.586980147016334,\n",
       " 'THOUGH THE': 15.112310151669565,\n",
       " 'THE CLINTON': 5.149812190152562,\n",
       " 'PREPARING FOR': 19.624958626269088,\n",
       " 'FOR MAINLAND': 7.058282340215392,\n",
       " 'CHINESE PRESIDENT': 12.808802236925048,\n",
       " 'PRESIDENT JIANG': 15.726807351897904,\n",
       " 'JIANG ZEMIN': 26.116832310686647,\n",
       " \"'S PLANNED\": 9.62823317134655,\n",
       " 'PLANNED VISIT': 18.665330700179315,\n",
       " 'LATE THIS': 15.989008925361968,\n",
       " 'THIS MONTH': 15.72264719589043,\n",
       " 'SAID MANY': 8.092097057531278,\n",
       " 'GOVERNMENT OFFICIALS': 13.165404524858017,\n",
       " 'KEEN INTEREST': 25.95844572401679,\n",
       " 'INTEREST IN': 16.377457274983925,\n",
       " 'LISTENING TO': 21.17994601411726,\n",
       " 'ECONOMIC TIES': 13.912588299870437,\n",
       " 'TIES AS': 13.62393199646453,\n",
       " 'AS TO': 7.112672267763179,\n",
       " 'WHITE PAPER': 24.274643860357113,\n",
       " 'WHICH HE': 11.831204867006473,\n",
       " 'AT A': 9.936536452610627,\n",
       " 'CONFERENCE HELD': 17.13539380081792,\n",
       " 'HELD IN': 14.157717773674316,\n",
       " 'IN WASHINGTON': 8.981404393309889,\n",
       " 'LAST THURSDAY': 12.997612292678145,\n",
       " 'THE ANNUAL': 5.949385926335083,\n",
       " \"'S CURRENT\": 9.539893441165653,\n",
       " 'CURRENT ECONOMIC': 15.95574984840762,\n",
       " 'ECONOMIC AND': 11.198532174844107,\n",
       " 'AND INVESTMENT': 7.2792531978432145,\n",
       " 'INVESTMENT CLIMATE': 19.344618004410524,\n",
       " 'AS A': 10.396722273594953,\n",
       " 'A REFERENCE': 8.192777441311835,\n",
       " 'REFERENCE FOR': 16.181573333904275,\n",
       " 'INTENDING TO': 21.636854202738636,\n",
       " 'TO INVEST': 9.664634169106897,\n",
       " 'INVEST IN': 18.243861945467547,\n",
       " 'THAT THE': 8.102197862886314,\n",
       " 'THE WHITE': 6.094446639942866,\n",
       " 'WAS NOT': 11.39931718063918,\n",
       " 'AIMED AT': 19.620767148711934,\n",
       " 'PARTY THE': 7.039795836738434,\n",
       " 'PAPER SAID': 14.866720371147021,\n",
       " 'SAID TAIWAN': 7.315049214170561,\n",
       " 'RESTRICTIONS ON': 19.688756967288622,\n",
       " 'ON TRADE': 7.430363278641379,\n",
       " 'ACROSS THE': 15.125851653097627,\n",
       " 'THE TAIWAN': 4.394303539454787,\n",
       " 'TAIWAN STRAIT': 12.17737929639955,\n",
       " 'STRAIT HAVE': 12.685272212540523,\n",
       " 'HAVE NOT': 11.29609351021535,\n",
       " 'NOT ONLY': 13.623620021278478,\n",
       " 'THE DEVELOPMENT': 4.891629290574445,\n",
       " 'DEVELOPMENT OF': 12.696600009589979,\n",
       " 'BUT HAVE': 10.361141262015094,\n",
       " 'HAVE ALSO': 11.20604692107053,\n",
       " 'BUSINESS GROUPS': 17.177709004689962,\n",
       " 'GROUPS FROM': 14.547155821066141,\n",
       " 'SETTING UP': 22.31254747540873,\n",
       " 'UP A': 11.448005707753614,\n",
       " 'THE ISLAND': 7.0846697581794,\n",
       " 'CLAIMED THAT': 16.887553160168228,\n",
       " 'THE ROC': 7.024626079259468,\n",
       " 'ROC GOVERNMENT': 15.651505012883314,\n",
       " \"GOVERNMENT 'S\": 11.996578291153497,\n",
       " 'PLAN TO': 14.561362052909766,\n",
       " 'TO DEVELOP': 9.307475869191785,\n",
       " 'TAIWAN INTO': 7.641930562119667,\n",
       " 'INTO AN': 13.107799128821492,\n",
       " 'AN ASIA-PACIFIC': 12.183316333824953,\n",
       " 'OPERATIONS CENTER': 17.531039607954522,\n",
       " 'IF TAIWAN': 11.603539661128348,\n",
       " 'TAIWAN COMPANIES': 8.741086609836545,\n",
       " 'COMPANIES ARE': 14.832604004784438,\n",
       " 'ARE NOT': 12.217989474280758,\n",
       " 'NOT ALLOWED': 12.937011407609289,\n",
       " 'ALLOWED TO': 16.90509004436906,\n",
       " 'TO ENTER': 9.523408523644537,\n",
       " 'ENTER THE': 15.915544549400293,\n",
       " 'THE VAST': 6.6706759576186,\n",
       " 'MAINLAND MARKET': 10.926182154886343,\n",
       " 'ACCESS TO': 17.718450376050665,\n",
       " 'TO ITS': 5.198348927272861,\n",
       " 'WAS MADE': 11.064104171348598,\n",
       " 'TAIWAN MUST': 9.262076612510974,\n",
       " 'COMMUNICATIONS AND': 14.383531938124042,\n",
       " 'AND TRANSPORT': 7.521476179904794,\n",
       " 'TRANSPORT LINKS': 22.679971959346545,\n",
       " 'LINKS WITH': 16.027551858922873,\n",
       " 'WITH MAINLAND': 10.088936852260652,\n",
       " 'SO THAT': 14.789679027828509,\n",
       " 'CAN MAKE': 13.973708625145147,\n",
       " 'INROADS INTO': 26.335287831217006,\n",
       " 'INTO THE': 12.066638686628709,\n",
       " \"WORLD 'S\": 13.370182802032879,\n",
       " \"'S LARGEST\": 11.184622918694059,\n",
       " 'ARE THE': 7.051885719718228,\n",
       " 'THE HOPE': 5.918011104469238,\n",
       " 'HOPE OF': 13.015941299125135,\n",
       " 'THE PORT': 4.680775480333891,\n",
       " 'PORT OF': 14.209039867372823,\n",
       " 'IN SOUTHERN': 9.518409310503086,\n",
       " 'ONE OF': 12.899011998909124,\n",
       " 'THE LARGEST': 6.389232161580429,\n",
       " 'WORLD IS': 9.961388890232652,\n",
       " 'ATTEMPTING TO': 20.57492586105485,\n",
       " 'TO BUILD': 9.642878045576511,\n",
       " 'IT INTO': 9.79992445356909,\n",
       " 'THE THIRD': 6.5586095467546786,\n",
       " 'THIRD LARGEST': 19.150468854957676,\n",
       " 'PORT IN': 14.80528079946748,\n",
       " 'IS ALSO': 10.606021322959641,\n",
       " 'TO ALL': 5.142491964794116,\n",
       " 'THE BLACK': 4.851917734109519,\n",
       " 'THE NORTH': 5.630346491851651,\n",
       " 'SAID A': 5.971407649043991,\n",
       " 'A COMPANY': 6.896811378080517,\n",
       " 'SPOKESMAN THE': 9.558870166460416,\n",
       " 'THE ITALIAN': 6.3111590361393395,\n",
       " 'GOVERNMENT HAS': 12.42409035206025,\n",
       " 'HAS PUT': 11.00012733627245,\n",
       " 'PUT UP': 16.199130448721764,\n",
       " 'DEVELOP THE': 13.53787521475167,\n",
       " 'INTO A': 13.16543987472654,\n",
       " 'WITH MOST': 7.523442216153965,\n",
       " 'PARTS OF': 17.31374636102055,\n",
       " 'THE HARBOR': 4.441791883177023,\n",
       " 'THE FIRST': 6.7506866493615645,\n",
       " 'FIRST SIX': 13.634509548100494,\n",
       " 'SIX MONTHS': 20.211684048706797,\n",
       " 'MONTHS OF': 13.633520496147375,\n",
       " 'OF THIS': 7.236455409436429,\n",
       " 'THIS YEAR': 16.363156805953754,\n",
       " 'YEAR THE': 9.210139119966986,\n",
       " 'HARBOR BUREAU': 21.24669088433041,\n",
       " 'ESTIMATED THAT': 17.364138919221833,\n",
       " 'THAT ITS': 6.468222449668839,\n",
       " 'YEAR ALTHOUGH': 11.506770654509308,\n",
       " 'IS FULLY': 10.577218535393525,\n",
       " 'ARE STILL': 13.996850848770041,\n",
       " 'STILL IN': 11.924667641072864,\n",
       " 'NEED OF': 12.634373683819359,\n",
       " 'MAYOR OF': 13.245737497178649,\n",
       " 'HE NOTED': 13.030075077060644,\n",
       " 'NOTED THAT': 16.044461454041777,\n",
       " 'THAT MANY': 8.939600230162396,\n",
       " 'HAVE BEEN': 14.89240839277239,\n",
       " 'DUE TO': 16.729177404991432,\n",
       " 'ONLY FOUR': 13.238435270872912,\n",
       " 'THE NEARBY': 5.447578234365935,\n",
       " \"TAIPEI 'S\": 11.252028262186835,\n",
       " \"'S REPRESENTATIVE\": 10.729008089425273,\n",
       " 'REPRESENTATIVE OFFICE': 20.07788255774901,\n",
       " 'OFFICE IN': 12.917456864701435,\n",
       " 'WHICH HAS': 12.203844410028228,\n",
       " 'RELUCTANT TO': 20.598429976031323,\n",
       " 'TAIWAN INVESTORS': 9.381395118293138,\n",
       " 'INVESTORS TO': 13.675216793748902,\n",
       " 'FOR FEAR': 11.236886197332211,\n",
       " 'FEAR THAT': 19.010884013575073,\n",
       " 'THE EUROPEAN': 6.500734665771236,\n",
       " 'EUROPEAN COUNTRY': 17.01386890633137,\n",
       " \"COUNTRY 'S\": 14.757957923286567,\n",
       " \"'S LABOR\": 8.468561662129305,\n",
       " 'LABOR UNION': 19.577620446050215,\n",
       " 'DEVELOPMENT HAS': 10.467386277637655,\n",
       " 'PROJECT IN': 13.054189338972424,\n",
       " 'TAIPEI REPRESENTATIVE': 11.977472785544396,\n",
       " 'REPRESENTATIVE IN': 13.29998909573186,\n",
       " 'MADE THE': 12.402622835255245,\n",
       " 'THE RIGHT': 6.537533833093148,\n",
       " 'DECISION BY': 14.546560858518873,\n",
       " 'AS LONG': 12.496912401493773,\n",
       " 'LONG AS': 17.35586626636071,\n",
       " 'AS THERE': 9.007685695221408,\n",
       " 'IS NO': 11.05051870130223,\n",
       " 'FOR THE': 8.326161167251254,\n",
       " 'THE PROJECT': 5.982783253995328,\n",
       " \"'S SUCCESS\": 9.795748661176853,\n",
       " 'HE SAID': 11.841464040009953,\n",
       " 'SAID NOTING': 10.516965835863788,\n",
       " 'NOTING THAT': 18.166760234630793,\n",
       " 'AND HAS': 5.959932814540223,\n",
       " 'HAS THE': 5.232212547927922,\n",
       " 'THE FULL': 4.72618544412019,\n",
       " 'FULL SUPPORT': 19.613960061085212,\n",
       " 'SUPPORT OF': 12.792759543011561,\n",
       " \"'S ARRIVAL\": 9.351565658338036,\n",
       " 'ARRIVAL IN': 16.831497728230147,\n",
       " 'HOPE TO': 13.29554494951016,\n",
       " 'TO PEOPLE': 3.384928312407835,\n",
       " 'PEOPLE IN': 10.667578660877433,\n",
       " 'THE MOVE': 5.401512858492522,\n",
       " 'TO LOOK': 8.643545326721505,\n",
       " 'THEM TO': 13.108994465862102,\n",
       " 'TO HAVE': 6.428644638109763,\n",
       " 'SOUTHEAST ASIA': 22.688498338873558,\n",
       " 'ASIA AND': 13.835900733447469,\n",
       " 'LATIN AMERICA': 26.788331072517707,\n",
       " 'HUNG SAID': 17.871771965176052,\n",
       " 'TAIWAN SHOULD': 8.979447594092052,\n",
       " 'BE TREATED': 13.548911821763129,\n",
       " 'THE SAME': 7.487958300181878,\n",
       " 'SAME AS': 13.36473221233068,\n",
       " 'AS ALL': 7.51080849998138,\n",
       " 'OTHER MEMBERS': 13.642027600609136,\n",
       " 'MEMBERS IN': 11.02719873265733,\n",
       " 'THE ASIA-PACIFIC': 6.939746639415231,\n",
       " 'ASIA-PACIFIC ECONOMIC': 20.12839184866723,\n",
       " 'COOPERATION APEC': 19.42370478279857,\n",
       " 'APEC FORUM': 22.658771585147004,\n",
       " 'EVEN IF': 17.922016036196908,\n",
       " 'P.K CHIANG': 27.72429230398536,\n",
       " 'CHAIRMAN OF': 13.42250827902798,\n",
       " 'THE COUNCIL': 5.884907940235568,\n",
       " 'COUNCIL FOR': 14.087062450158378,\n",
       " 'FOR ECONOMIC': 9.521901743859468,\n",
       " 'ECONOMIC PLANNING': 17.09197511020632,\n",
       " 'PLANNING AND': 16.106185949509015,\n",
       " 'AND DEVELOPMENT': 8.240442077857995,\n",
       " 'DEVELOPMENT CEPD': 18.449574280988738,\n",
       " 'THE REMARKS': 7.113941877283137,\n",
       " 'REMARKS IN': 13.732068814395019,\n",
       " 'IN AN': 7.443062494953175,\n",
       " 'AN INTERPELLATION': 15.310417037576347,\n",
       " 'INTERPELLATION SESSION': 27.451050529798447,\n",
       " 'THE LEGISLATIVE': 6.532892937908387,\n",
       " 'LEGISLATIVE YUAN': 19.28943842144902,\n",
       " \"YUAN 'S\": 12.575836099671223,\n",
       " \"'S ECONOMIC\": 9.375498992668787,\n",
       " 'ECONOMIC AFFAIRS': 16.239020385901046,\n",
       " 'AFFAIRS COMMITTEE': 14.602040542337608,\n",
       " 'DURING WHICH': 13.165562569115531,\n",
       " 'THE OPPOSITION': 6.287401209475184,\n",
       " 'OPPOSITION DEMOCRATIC': 18.05840922717643,\n",
       " 'DEMOCRATIC PROGRESSIVE': 21.10299159572609,\n",
       " 'PROGRESSIVE PARTY': 20.275595651365922,\n",
       " 'ASKED HIM': 17.01967243541395,\n",
       " 'WHAT TAIWAN': 12.489357149425864,\n",
       " 'WOULD DO': 13.279510787001636,\n",
       " 'IF BEIJING': 13.529870893075104,\n",
       " 'THE 2001': 3.9041294372265845,\n",
       " 'MEETING AND': 9.263307788871773,\n",
       " 'TAKE PART': 18.47113229189035,\n",
       " 'PART IN': 14.418247296593124,\n",
       " 'THE GATHERING': 5.612175418998144,\n",
       " 'A LOCAL': 8.127637208431981,\n",
       " 'THE PEOPLE': 5.439640704806406,\n",
       " \"PEOPLE 'S\": 12.153191021593171,\n",
       " \"'S REPUBLIC\": 8.912578228379914,\n",
       " 'CHIANG SAID': 14.946808231296112,\n",
       " 'SAID IT': 9.313670188739671,\n",
       " 'IT IS': 13.154973607238654,\n",
       " 'STILL TOO': 17.392835105368473,\n",
       " 'TOO EARLY': 20.682779770829715,\n",
       " 'EARLY TO': 11.769287170550756,\n",
       " 'TO SPECULATE': 9.69540496172984,\n",
       " 'WHO WILL': 10.888499640654564,\n",
       " 'WILL HOST': 11.560879403543614,\n",
       " 'HOST THE': 14.811454295519313,\n",
       " 'TAIWAN A': 4.494689967392047,\n",
       " 'A FULL': 9.300864832547138,\n",
       " 'APEC MEMBER': 20.71934862671162,\n",
       " 'HAS TAKEN': 13.016612792891403,\n",
       " 'TAKEN PART': 18.65252294853433,\n",
       " 'IN ALL': 5.834235187212316,\n",
       " 'ALL EIGHT': 15.66914701941466,\n",
       " 'MEETINGS IN': 15.211489350205815,\n",
       " 'THE PAST': 7.4047695299316985,\n",
       " 'A SOVEREIGN': 10.223019743348733,\n",
       " 'WITH A': 9.011539339774682,\n",
       " 'EQUAL TO': 16.81874244683177,\n",
       " 'TO THAT': 1.6069449226506343,\n",
       " 'THAT OF': 4.340523520639127,\n",
       " 'OF EVERY': 6.026953169699706,\n",
       " 'SAID ``': 8.336142726305505,\n",
       " \"DID N'T\": 21.018138117943828,\n",
       " 'CHANGE IN': 14.639245238152096,\n",
       " 'PAST AND': 10.334854820941418,\n",
       " 'AND THEY': 5.156350671941082,\n",
       " \"WO N'T\": 27.543920572441838,\n",
       " 'THE FUTURE': 6.385550294588233,\n",
       " \"FUTURE ''\": 14.2357889452751,\n",
       " \"'' HE\": 11.833308044307545,\n",
       " 'SAID NO': 5.952045939722008,\n",
       " 'NO MATTER': 17.060677304034247,\n",
       " 'VIOLATE THE': 18.802154972601716,\n",
       " 'THE PRINCIPLES': 6.483298020158554,\n",
       " 'PRINCIPLES OF': 17.94257244808513,\n",
       " 'THE ORGANIZATION': 4.787136536878845,\n",
       " \"ORGANIZATION 'S\": 13.273426413940223,\n",
       " 'EQUALITY AND': 19.022752785271265,\n",
       " 'AND COOPERATION': 7.189910610048038,\n",
       " 'CHIANG WHO': 14.93523848126519,\n",
       " 'WHO LED': 13.324243210541251,\n",
       " 'LED THE': 12.458663079351714,\n",
       " 'THE CHINESE': 5.242468246266656,\n",
       " 'CHINESE TAIPEI': 13.164759338257712,\n",
       " 'DELEGATION TO': 13.894291253541885,\n",
       " 'THE 1996': 4.285000365526756,\n",
       " 'ANNUAL MEETING': 18.105480327753735,\n",
       " 'MEETING HELD': 14.458090203887735,\n",
       " 'THE PHILIPPINES': 7.497577459515827,\n",
       " 'RECALLED THAT': 19.815961553561053,\n",
       " 'THAT MAINLAND': 7.563178085134514,\n",
       " 'VICE PREMIER': 17.993184560717456,\n",
       " 'PREMIER AND': 10.79822756209415,\n",
       " 'A JOINT': 10.300351541504499,\n",
       " 'PRESS CONFERENCE': 20.93432845280167,\n",
       " 'SAID HE': 10.152327999812272,\n",
       " 'REITERATED THAT': 18.429707998158637,\n",
       " 'SAID HIS': 8.057358037014815,\n",
       " 'HIS SPEECH': 13.484939660269239,\n",
       " 'SUPPORT FROM': 14.195448587502336,\n",
       " 'MANY OTHER': 15.489809109703488,\n",
       " 'MEMBER COUNTRIES': 18.285090092587094,\n",
       " 'HONG KONG': 21.508507370151932,\n",
       " 'NEW ZEALAND': 17.553179240996368,\n",
       " 'PAPUA NEW': 25.90869390143165,\n",
       " 'NEW GUINEA': 17.822321961523063,\n",
       " 'SOUTH KOREA': 21.554465061367484,\n",
       " 'THAILAND AND': 15.659408364105975,\n",
       " 'WITH THIS': 7.459992839159323,\n",
       " 'BEING A': 11.541514517470446,\n",
       " 'A YEAR': 7.295580613105157,\n",
       " 'YEAR OF': 7.796377811247059,\n",
       " 'OF ECONOMIC': 7.4554423343099465,\n",
       " 'ECONOMIC RECOVERY': 17.19405701711216,\n",
       " 'ECONOMIC GROWTH': 16.792483463765024,\n",
       " 'GROWTH IN': 14.111196227317016,\n",
       " 'IN 1997': 9.809577048012086,\n",
       " \"'S TOP\": 11.270667321790093,\n",
       " 'TOP ECONOMIC': 14.759153758861478,\n",
       " 'SAID ON': 7.540350775184592,\n",
       " 'THE CABINET-LEVEL': 7.449365591655323,\n",
       " 'CABINET-LEVEL COUNCIL': 21.34688052224195,\n",
       " 'CEPD SAID': 17.168190781179625,\n",
       " 'SAID THAT': 10.16825093950204,\n",
       " 'THAT WITH': 4.99048466860309,\n",
       " 'THE SECOND': 6.7281601523337295,\n",
       " 'SECOND HALF': 19.792862902339536,\n",
       " 'HALF OF': 16.755885858917225,\n",
       " 'THE YEAR': 3.3712984302241416,\n",
       " 'FORECAST TO': 14.751101563148755,\n",
       " 'TO REACH': 9.181083007992257,\n",
       " 'ANNUAL GROWTH': 19.10040629042729,\n",
       " 'PERCENT IN': 9.694709928051491,\n",
       " 'WHICH WOULD': 12.00721482492207,\n",
       " 'BE THE': 6.786041630225748,\n",
       " 'THE SEVENTH': 6.896542853952163,\n",
       " 'HIGHEST IN': 14.429946653391537,\n",
       " 'WORLD AND': 9.667373566830854,\n",
       " 'AND A': 5.222033562521269,\n",
       " 'A FIVE-YEAR': 10.540074760067135,\n",
       " 'HIGH IN': 10.32352684829268,\n",
       " 'GAVE THE': 14.58213550669026,\n",
       " 'THE FIGURES': 5.251273451651253,\n",
       " 'FIGURES IN': 14.57135219576161,\n",
       " 'IN A': 6.840448985489056,\n",
       " 'A REPORT': 8.991791782600439,\n",
       " 'REPORT ON': 14.113811604675794,\n",
       " 'ON NATIONAL': 7.423744814825072,\n",
       " 'ECONOMIC PROSPECTS': 16.392618303928987,\n",
       " 'COMMITTEE TO': 11.670716993968114,\n",
       " 'TO ACCELERATE': 8.967857793834877,\n",
       " 'ACCELERATE THE': 17.548802547317326,\n",
       " 'THE PACE': 6.21771069246734,\n",
       " 'PACE OF': 19.00402697092742,\n",
       " 'THE RECOVERY': 4.5878376234063785,\n",
       " 'THE GOVERNMENT': 6.380771695762879,\n",
       " 'GOVERNMENT WILL': 11.799401330170202,\n",
       " 'WILL CONTINUE': 13.270048379080334,\n",
       " 'PUBLIC CONSTRUCTION': 16.00875865600519,\n",
       " 'CONSTRUCTION PROJECTS': 20.247690493323983,\n",
       " 'AS WELL': 14.494006639000656,\n",
       " 'WELL AS': 17.82707072226642,\n",
       " 'PRIVATE INVESTMENT': 18.48066339819258,\n",
       " 'INVESTMENT IN': 13.91543053711579,\n",
       " 'IN ADDITION': 11.023541458652447,\n",
       " 'SEVERAL OTHER': 16.651502174744827,\n",
       " 'THE DOMESTIC': 5.197465055471037,\n",
       " 'DOMESTIC ECONOMY': 18.02137661536519,\n",
       " 'INCLUDING THE': 11.845043567278852,\n",
       " 'POWER PLANTS': 20.54127349058773,\n",
       " 'PLANTS AND': 16.049040745742154,\n",
       " 'INDUSTRIAL PARKS': 21.087628965667193,\n",
       " 'THE LEVEL': 4.6906990685443395,\n",
       " 'LEVEL OF': 14.97612146325821,\n",
       " 'OF PRIVATE': 5.481031247392926,\n",
       " 'HIGH-TECH INDUSTRIES': 22.608227445893633,\n",
       " 'HIGH AND': 11.130974617372164,\n",
       " 'AND EXPORT': 6.326594778062355,\n",
       " 'CONTINUING TO': 17.956868818062425,\n",
       " 'TO PICK': 9.365935317829859,\n",
       " 'PICK UP': 24.320012858901027,\n",
       " 'AT LEAST': 14.673713493869435,\n",
       " 'PEOPLE ARE': 12.105806428848771,\n",
       " 'EVERY MONTH': 18.220184373306772,\n",
       " 'FOR TAKING': 8.443422312756644,\n",
       " 'THE DEPARTMENT': 5.570939116413056,\n",
       " 'DEPARTMENT OF': 14.979900524448055,\n",
       " 'OF HEALTH': 7.930455909929831,\n",
       " 'HEALTH DOH': 19.696226169037345,\n",
       " 'THE DOH': 6.676449625087969,\n",
       " \"DOH 'S\": 15.738156894517175,\n",
       " 'ON TUESDAY': 11.607870379249471,\n",
       " 'TUESDAY THAT': 13.574544497687807,\n",
       " 'OF THOSE': 7.484474055914552,\n",
       " 'INDICATING THAT': 20.633494986330284,\n",
       " 'EFFORTS HAVE': 13.384776714926216,\n",
       " 'BEEN ABLE': 14.36410873444914,\n",
       " 'ABLE TO': 17.078417082725213,\n",
       " 'TO REDUCE': 9.13220138510669,\n",
       " 'REDUCE THE': 15.616500089329367,\n",
       " 'THE NUMBER': 6.874237361980383,\n",
       " 'NUMBER OF': 15.45259091485366,\n",
       " 'BASED ON': 18.26140791755141,\n",
       " 'THE PREVIOUS': 7.089235793355017,\n",
       " 'ESTIMATES THAT': 20.005361890989906,\n",
       " 'TAIWAN HAS': 8.769369389930258,\n",
       " 'RESIDENTS WHO': 16.134824324379004,\n",
       " '1 PERCENT': 16.210509434839924,\n",
       " 'PERCENT OF': 11.072397464883085,\n",
       " \"ISLAND 'S\": 15.033306326125297,\n",
       " \"'S POPULATION\": 10.155310195639085,\n",
       " 'LI SAID': 16.776653885949045,\n",
       " 'SAID AT': 7.605212007369953,\n",
       " 'AT AN': 9.251401242766617,\n",
       " 'CONFERENCE IN': 12.42573270525565,\n",
       " 'BETEL NUTS': 30.701493458201494,\n",
       " 'THAT AN': 6.242780646605053,\n",
       " 'AN IMPORTANT': 14.03572945238537,\n",
       " 'TO KEEP': 9.288259381003932,\n",
       " 'AWAY FROM': 19.18648838915633,\n",
       " 'IS TO': 6.9336373706562044,\n",
       " 'TO ``': 4.4642701619056275,\n",
       " 'OR ``': 10.668291153135144,\n",
       " '`` CHINESE': 8.160699510672847,\n",
       " \"'' AS\": 8.723016760628498,\n",
       " 'AS THEY': 9.788171389241509,\n",
       " 'THEY ARE': 14.283701117100703,\n",
       " 'FOR THEIR': 9.02318243493479,\n",
       " 'AND ARE': 4.975719576216141,\n",
       " 'LEAD TO': 16.168530520753805,\n",
       " 'BE A': 8.8757435376034,\n",
       " 'A GOOD': 10.003812164086636,\n",
       " 'TIME FOR': 12.439257474413228,\n",
       " 'THE RESUMPTION': 6.698328808078427,\n",
       " 'RESUMPTION OF': 19.447922710617977,\n",
       " 'OF DIALOGUE': 5.656168154031284,\n",
       " 'WHICH WAS': 12.636803605952231,\n",
       " 'BY BEIJING': 9.985500830038738,\n",
       " 'ROC PRESIDENT': 14.834051123857503,\n",
       " 'PRESIDENT LEE': 14.750899755654418,\n",
       " 'LEE TENG-HUI': 19.78008104036049,\n",
       " \"TENG-HUI 'S\": 16.5651966616486,\n",
       " \"'S VISIT\": 9.090773814870078,\n",
       " 'STATES IN': 11.196495028982062,\n",
       " 'IN JUNE': 8.21003975309912,\n",
       " 'KOO CHEN-FU': 25.60594483896872,\n",
       " 'THE TAIPEI-BASED': 7.203483604804366,\n",
       " 'TAIPEI-BASED STRAITS': 23.795393461496168,\n",
       " 'STRAITS EXCHANGE': 22.219127293518703,\n",
       " 'EXCHANGE FOUNDATION': 18.767453309688754,\n",
       " 'FOUNDATION SEF': 20.844298655767545,\n",
       " 'SEF SAID': 14.236417461420418,\n",
       " 'WEDNESDAY THE': 10.787686228279144,\n",
       " 'OF CROSS-STRAIT': 7.202720149814805,\n",
       " 'IS ``': 8.10476779476909,\n",
       " 'WHILE THE': 10.721605899066265,\n",
       " 'THE TWO': 6.479680033776675,\n",
       " 'TWO SIDES': 17.29581611034183,\n",
       " 'SIDES ARE': 14.047715886643438,\n",
       " 'CREATING A': 18.639997462435037,\n",
       " \"'' FOR\": 8.289171993297757,\n",
       " 'TO TAKE': 9.074487489275004,\n",
       " 'TAKE PLACE': 18.959424177249353,\n",
       " 'TOLD REPORTERS': 21.02485790178032,\n",
       " 'CHINA HAS': 10.654845050905065,\n",
       " 'HAS SHOWN': 13.742674157653422,\n",
       " 'WILLINGNESS TO': 19.497762292472935,\n",
       " 'TO TALK': 8.813227598481305,\n",
       " 'HE ALSO': 11.36904264504187,\n",
       " 'THAT HE': 9.62481833162128,\n",
       " 'HE BELIEVES': 14.339338044139257,\n",
       " 'NO NEED': 16.58380558918184,\n",
       " 'NEED FOR': 16.113468079655128,\n",
       " 'TAIWAN AND': 7.777663675729728,\n",
       " 'AND MAINLAND': 6.946792583079802,\n",
       " 'CHINA TO': 7.932547749213552,\n",
       " 'TO SET': 7.652004106754159,\n",
       " 'SET UP': 18.785372109461207,\n",
       " 'A NEW': 9.17009552265422,\n",
       " 'FOR FUTURE': 8.95284056333658,\n",
       " 'STRESSING THAT': 20.22803302931965,\n",
       " 'THEY SHOULD': 12.547872520369033,\n",
       " 'STILL BE': 13.819082351167241,\n",
       " 'BE CONDUCTED': 12.06055418463549,\n",
       " 'CONDUCTED BY': 18.380793833115934,\n",
       " 'BY THE': 9.583678898560226,\n",
       " 'INTERMEDIARY BODIES': 28.174315596253148,\n",
       " '-- THE': 10.051300194502357,\n",
       " 'THE SEF': 6.024747358912992,\n",
       " 'SEF AND': 15.4909405067439,\n",
       " \"'S ASSOCIATION\": 8.927513741110902,\n",
       " 'ASSOCIATION FOR': 15.506290078038806,\n",
       " 'FOR RELATIONS': 10.03342386973337,\n",
       " 'RELATIONS ACROSS': 18.681727609868343,\n",
       " 'STRAIT ARATS': 18.45337201293274,\n",
       " 'UP TO': 11.356792355955363,\n",
       " 'TO HANDLE': 9.610443921445823,\n",
       " 'HANDLE CROSS-STRAIT': 21.212006163321238,\n",
       " 'CROSS-STRAIT EXCHANGES': 17.466655519452324,\n",
       " 'EXCHANGES IN': 13.465591675390263,\n",
       " 'THE ABSENCE': 7.398485724846279,\n",
       " 'ABSENCE OF': 18.501430812555235,\n",
       " 'OF OFFICIAL': 5.336042030179854,\n",
       " 'KOO SAID': 15.820536024342175,\n",
       " 'THAT AT': 4.574693343155446,\n",
       " 'THE MOMENT': 7.044843701892764,\n",
       " 'THERE SHOULD': 13.692888479007982,\n",
       " 'BE NO': 10.297666029412465,\n",
       " 'SIDES TO': 11.405479975715393,\n",
       " 'TO HOLD': 8.64108463082599,\n",
       " 'HOLD TALKS': 18.787131650870315,\n",
       " 'TALKS ON': 14.97954372174024,\n",
       " 'ECONOMIC ISSUES': 13.108238924553259,\n",
       " 'IN POLITICAL': 5.15177521230776,\n",
       " 'POLITICAL NEGOTIATIONS': 15.4503811145791,\n",
       " 'WILL REQUIRE': 12.31861267363011,\n",
       " 'REQUIRE THE': 14.935748930632176,\n",
       " 'THE SUPPORT': 3.780193509094969,\n",
       " 'OF PUBLIC': 5.930708185938463,\n",
       " 'PUBLIC OPINION': 18.829436451306627,\n",
       " 'HE ADDED': 14.054402443372291,\n",
       " 'SIDES SHOULD': 15.327405114895837,\n",
       " 'REVEALED THAT': 19.306572633259957,\n",
       " 'THAT A': 6.326950921370929,\n",
       " 'A KEY': 8.858206841839737,\n",
       " 'MEETING OF': 11.893568915402696,\n",
       " 'THE NATIONAL': 5.682455058801149,\n",
       " 'NATIONAL UNIFICATION': 17.321735420050363,\n",
       " 'UNIFICATION COUNCIL': 20.5715411260189,\n",
       " 'COUNCIL IS': 10.96736814687038,\n",
       " 'IS EXPECTED': 13.51643770018852,\n",
       " 'EXPECTED TO': 15.464252908024546,\n",
       " 'TO BE': 7.918620837032781,\n",
       " 'BE HELD': 13.918973685878997,\n",
       " 'FOLLOWING A': 14.323068040606028,\n",
       " 'A US': 5.651110692496178,\n",
       " 'VISIT BY': 11.964278744424183,\n",
       " 'BY MAINLAND': 9.147506838579018,\n",
       " 'LATER THIS': 18.286656868015438,\n",
       " 'SAID PRESIDENT': 6.749968332405387,\n",
       " 'LEE IS': 10.88318209752188,\n",
       " 'TO DELIVER': 9.115672645027736,\n",
       " 'SPEECH TO': 13.639956720479436,\n",
       " 'THE MEETING': 5.310030728134229,\n",
       " 'MEETING A': 8.727172934078714,\n",
       " 'A MEDICAL': 7.307210385161205,\n",
       " 'MEDICAL TEAM': 18.444265543069516,\n",
       " 'MEDICAL CENTER': 17.329116346457656,\n",
       " 'IN SUBURBAN': 10.646408615714323,\n",
       " 'SUBURBAN TAIPEI': 23.68186991947717,\n",
       " 'NINE YEARS': 19.304497926504432,\n",
       " 'YEARS AFTER': 13.33591843694462,\n",
       " 'AFTER THE': 10.948694989559055,\n",
       " 'THE HOSPITAL': 5.579039047539785,\n",
       " 'THIS TYPE': 15.649773241121155,\n",
       " 'TYPE OF': 19.032260189992954,\n",
       " 'A HOSPITAL': 7.752334927138913,\n",
       " 'SPOKESMAN SAID': 16.064864119782094,\n",
       " 'THE PATIENT': 5.788440987289715,\n",
       " 'ONLY BY': 11.205560149277769,\n",
       " 'BY HIS': 8.833072036304214,\n",
       " 'SUFFERED FROM': 18.403959710040706,\n",
       " 'FROM AN': 8.515165428427336,\n",
       " 'FOR FIVE': 8.385298721173024,\n",
       " 'FIVE YEARS': 18.570548199242577,\n",
       " 'YEARS HE': 11.786752048086452,\n",
       " 'HE WAS': 11.544810783986422,\n",
       " 'TRANSFERRED TO': 19.52492896222632,\n",
       " 'HOSPITAL IN': 14.858484801542858,\n",
       " 'IN AUGUST': 9.527941726346265,\n",
       " 'AUGUST TO': 12.668365704022975,\n",
       " 'TO RECEIVE': 8.863787964620322,\n",
       " 'RECEIVE A': 16.10382279526302,\n",
       " 'THE MEDICAL': 3.6055874135505106,\n",
       " 'TUESDAY AND': 9.846247506507982,\n",
       " 'COMPLETED THE': 13.413679194246404,\n",
       " 'WEDNESDAY MORNING': 17.03070318607292,\n",
       " '`` THE': 7.402295088879751,\n",
       " 'IS NOW': 12.26973857576584,\n",
       " 'INTENSIVE CARE': 26.476884131749763,\n",
       " 'CHENG SAID': 16.349818303664712,\n",
       " 'SAID ACCORDING': 8.355145994869657,\n",
       " 'PEOPLE WHO': 13.295482381666414,\n",
       " 'WHO HAVE': 13.253048719375501,\n",
       " 'HAVE RECEIVED': 12.708149940063253,\n",
       " 'OVER THE': 12.326476224682228,\n",
       " 'THE CENTER': 5.117107625095149,\n",
       " 'CENTER HAS': 12.862096891777002,\n",
       " 'HAS A': 8.242122499085365,\n",
       " 'RATE OF': 14.186628182885123,\n",
       " 'PERCENT AND': 9.845411393576297,\n",
       " 'A THREE-YEAR': 10.721180320918048,\n",
       " 'PERCENT THE': 7.236277201004686,\n",
       " 'THE HIGHEST': 7.062016196837301,\n",
       " 'IN ASIA': 9.16347159281693,\n",
       " 'AND EVEN': 7.450679768854347,\n",
       " 'EVEN HIGHER': 17.669244389849915,\n",
       " 'HIGHER THAN': 19.152898439187627,\n",
       " 'THAN THE': 9.820612255382892,\n",
       " 'ADDED THE': 10.974583756546545,\n",
       " 'THE OLDEST': 7.051862832488712,\n",
       " 'TIME OF': 9.907555586496086,\n",
       " 'OF HIS': 6.635720297170962,\n",
       " 'THE YOUNGEST': 7.275060429912681,\n",
       " 'WAS ONLY': 10.391572361127896,\n",
       " 'WEI SAID': 17.82142132577936,\n",
       " 'YEARS OLD': 17.417495045622857,\n",
       " 'ALSO THE': 6.406695853062936,\n",
       " 'THE ONLY': 3.9714809059242056,\n",
       " 'HAS USED': 10.426734686250862,\n",
       " 'SAID POINTING': 10.466624193561787,\n",
       " 'POINTING OUT': 23.48817433448794,\n",
       " 'OUT THAT': 13.776729719026745,\n",
       " 'THAT SOME': 8.72533639068727,\n",
       " 'BEFORE A': 10.729896252203195,\n",
       " 'A SUITABLE': 9.102759178519594,\n",
       " 'HELD A': 12.332180808922827,\n",
       " 'WEDNESDAY TO': 11.376041724635137,\n",
       " 'TO CELEBRATE': 9.804194466992664,\n",
       " 'WAS ATTENDED': 12.739967877282089,\n",
       " 'ATTENDED BY': 18.430541272588886,\n",
       " 'BY MANY': 9.266943582904368,\n",
       " 'MANY OF': 12.400198611708843,\n",
       " 'ADDRESSING THE': 16.947851143762385,\n",
       " 'THE OCCASION': 6.222764539136836,\n",
       " 'CALLED ON': 16.653426414156375,\n",
       " 'ON LOCAL': 8.002834299580584,\n",
       " 'LOCAL RESIDENTS': 16.587221359683184,\n",
       " 'RESIDENTS TO': 13.150745031254637,\n",
       " 'TO SUPPORT': 7.0684003268789395,\n",
       " 'SUPPORT THE': 11.457356843469059,\n",
       " 'DRIVE TO': 16.423437211026073,\n",
       " 'TO GIVE': 8.973748757679052,\n",
       " 'OF LIFE': 7.606220064756858,\n",
       " 'LIFE TO': 12.257417547013926,\n",
       " \"PANAMA 'S\": 16.630306009463567,\n",
       " \"'S FOREIGN\": 8.232859962022014,\n",
       " 'MINISTER SAID': 11.707175063242369,\n",
       " 'SAID HERE': 10.205723539523687,\n",
       " 'THAT AS': 6.734129660949301,\n",
       " 'AS HIS': 8.083185006894823,\n",
       " 'HIS COUNTRY': 11.723142722690264,\n",
       " 'COUNTRY IS': 11.41341024974217,\n",
       " 'CONTROL OF': 13.480747302546037,\n",
       " 'THE PANAMA': 3.8052658596565467,\n",
       " 'IT WOULD': 13.43632645213038,\n",
       " 'TRY TO': 17.890513192295135,\n",
       " 'TO MAINTAIN': 9.23167443566493,\n",
       " 'RELATIONS WITH': 14.876417636200255,\n",
       " 'WITH ALL': 8.544175908455198,\n",
       " 'CHINA BUT': 10.107872194920226,\n",
       " 'BUT ``': 8.941315933205995,\n",
       " '`` THAT': 4.768910733301916,\n",
       " 'THAT SHOULD': 5.964235875819622,\n",
       " 'NOT IN': 6.9752336027039235,\n",
       " 'IN ANY': 6.7122898990631095,\n",
       " 'AFFECT THE': 15.824702223097448,\n",
       " 'THE GOOD': 3.02363706410085,\n",
       " 'FRIENDSHIP AND': 17.08764231601529,\n",
       " 'AND DIPLOMATIC': 5.063270570138167,\n",
       " 'ON TAIWAN': 8.397972510457878,\n",
       " \"TAIWAN ''\": 7.342174838959771,\n",
       " 'REMARKS TO': 10.122939327081305,\n",
       " 'TO REPORTERS': 6.381476168725638,\n",
       " 'REPORTERS AFTER': 17.4145641801751,\n",
       " 'A CALL': 7.7820582446596545,\n",
       " 'CALL ON': 17.025442543039446,\n",
       " 'JASON HU': 25.864303921882332,\n",
       " 'REPRESENTATIVE TO': 15.06107170068816,\n",
       " 'FAILED TO': 17.505715431511266,\n",
       " 'TO SPEAK': 8.867479777755827,\n",
       " 'IN SUPPORT': 6.192940041430971,\n",
       " 'OF TAIPEI': 5.522714486513256,\n",
       " 'MEMBERSHIP IN': 16.681847003995575,\n",
       " 'UNITED NATIONS': 18.748254314887316,\n",
       " 'ADDRESSED THE': 16.6231695384429,\n",
       " 'THE UN': 6.654715945952922,\n",
       " 'GENERAL ASSEMBLY': 20.61496876010968,\n",
       " 'LAST FRIDAY': 14.628714171819436,\n",
       " 'FRIDAY THE': 10.831815601405692,\n",
       " 'DIPLOMATIC TIES': 20.33411329251134,\n",
       " 'TIES WITH': 17.010179882143106,\n",
       " 'WITH ONLY': 9.07413876755203,\n",
       " 'COUNTRIES AND': 11.559659287914721,\n",
       " 'AND WHETHER': 6.016636385217878,\n",
       " 'WHETHER A': 11.55971176264271,\n",
       " 'A COUNTRY': 6.629078766651073,\n",
       " 'IS WILLING': 13.080205647012505,\n",
       " 'WILLING TO': 18.08155466160062,\n",
       " 'SPEAK ON': 18.723232727707085,\n",
       " 'ON BEHALF': 13.563756393854845,\n",
       " 'BEHALF OF': 18.344667761575188,\n",
       " 'AS AN': 10.60925391901168,\n",
       " 'AN INDICATION': 15.93199334408661,\n",
       " 'OF HOW': 6.03992076996538,\n",
       " 'THE RELATIONSHIP': 4.664747909413709,\n",
       " 'FAILURE TO': 18.023741331594035,\n",
       " 'TO VOICE': 7.94349971342689,\n",
       " 'PUBLIC SUPPORT': 14.325701079613602,\n",
       " 'SUPPORT FOR': 15.589817964652662,\n",
       " 'FOR TAIPEI': 7.042438141305872,\n",
       " 'TAIWAN BECAUSE': 7.072111407221941,\n",
       " 'THE HEELS': 7.5482449899354975,\n",
       " 'HEELS OF': 22.11553965893591,\n",
       " 'A MEETING': 9.1151416027906,\n",
       " 'MEETING WITH': 14.428757008749566,\n",
       " 'WITH BEIJING': 10.254725069504248,\n",
       " \"BEIJING 'S\": 14.010023659102341,\n",
       " 'OF PRESIDENT': 5.1631943323645695,\n",
       " 'TO PANAMA': 7.543875330276689,\n",
       " 'EARLIER THIS': 18.212327303938466,\n",
       " 'MONTH FOR': 12.692380459109424,\n",
       " 'AN INTERNATIONAL': 12.358609266973813,\n",
       " 'MEETING ON': 12.155656412737589,\n",
       " 'HE DID': 12.349990626215723,\n",
       " 'DID NOT': 19.389106176244866,\n",
       " 'TAIWAN WITH': 6.042729662741796,\n",
       " 'ONLY ABOUT': 13.617725533797037,\n",
       " 'ABOUT THE': 11.594216639658784,\n",
       " 'ON DEC.': 11.523321194316784,\n",
       " 'DEC. 31': 21.17746153881928,\n",
       " '1999 THE': 13.46045845087402,\n",
       " 'THE NEED': 4.567675137788254,\n",
       " 'OF COMMUNICATION': 6.781728294932062,\n",
       " 'GIVEN THE': 13.615853306162668,\n",
       " 'THE IMPORTANCE': 6.60289303423233,\n",
       " 'IMPORTANCE OF': 17.32118407706073,\n",
       " 'ISSUE TO': 10.299663110980973,\n",
       " 'TO BOTH': 4.816742948730056,\n",
       " 'AND PANAMA': 7.176025595970296,\n",
       " 'IN HONG': 8.097291644342503,\n",
       " 'WHICH HAD': 11.35087863413901,\n",
       " 'HAD BEEN': 15.844227884554003,\n",
       " 'BEEN A': 9.851220835546453,\n",
       " 'ITS OFFICIAL': 10.372974557857784,\n",
       " 'FOLLOWING THE': 13.548495586125668,\n",
       " 'THE FORMER': 5.203732325374157,\n",
       " 'FORMER BRITISH': 18.22503743137274,\n",
       " 'BRITISH COLONY': 26.381177774281635,\n",
       " 'TO BEIJING': 6.50815444993043,\n",
       " 'ON JULY': 10.611069695326723,\n",
       " 'JULY 1': 19.028970626047183,\n",
       " '1 THE': 10.701523070660993,\n",
       " 'THE FOREIGN': 3.572634561857016,\n",
       " 'ALSO DENIED': 13.389368955564668,\n",
       " 'KNOWLEDGE OF': 17.227091978766367,\n",
       " 'OF ANY': 6.002184059028699,\n",
       " 'PLAN FOR': 13.709563366098736,\n",
       " 'TO VISIT': 8.01318443584147,\n",
       " 'YEAR AS': 10.123321829268596,\n",
       " 'REPORTED IN': 13.280269869361634,\n",
       " 'THE PRESS': 5.145526149384472,\n",
       " 'SAYING THAT': 16.80128417688925,\n",
       " 'ABOUT A': 10.720505574656194,\n",
       " 'A VISIT': 8.312556870065848,\n",
       " 'ASKED WHY': 18.75988302541706,\n",
       " 'WHY HE': 17.07458526766345,\n",
       " 'HE DECIDED': 9.833385664088082,\n",
       " 'DECIDED NOT': 15.409002159283823,\n",
       " 'NOT TO': 9.261930467855489,\n",
       " 'TO MENTION': 8.740906381320226,\n",
       " 'TAIWAN IN': 6.4877573608256345,\n",
       " 'IN HIS': 7.328997837802662,\n",
       " 'AND THEREFORE': 8.358284956546406,\n",
       " 'REFRAIN FROM': 22.615859809246608,\n",
       " 'FROM TAKING': 11.150146698138888,\n",
       " 'ON ISSUES': 9.46853196892527,\n",
       " 'ISSUES OF': 11.083505417890983,\n",
       " 'OF INTERNATIONAL': 5.482744965511046,\n",
       " 'IN ACCORDANCE': 11.044371371983019,\n",
       " 'ACCORDANCE WITH': 21.393898629053066,\n",
       " 'STATES THAT': 10.427567808773075,\n",
       " 'AFTER ITS': 10.980472056179003,\n",
       " ...}"
      ]
     },
     "execution_count": 13,
     "metadata": {},
     "output_type": "execute_result"
    }
   ],
   "source": [
    "# effect of threshold on pmi\n",
    "pmi"
   ]
  },
  {
   "cell_type": "markdown",
   "metadata": {},
   "source": [
    "#### With a threshold of 100, what are the 10 highest-PMI word pairs?"
   ]
  },
  {
   "cell_type": "code",
   "execution_count": 14,
   "metadata": {},
   "outputs": [
    {
     "name": "stdout",
     "output_type": "stream",
     "text": [
      "The 10 highest-PMI word pairs are: ['SPONGIFORM ENCEPHALOPATHY', 'YING- JEOU', 'BOVINE SPONGIFORM', 'ALMA MATER', 'SRI LANKA', 'BARACK OBAMA', 'KUALA LUMPUR', 'SAO TOME', 'AU OPTRONICS', 'SYMPHONY ORCHESTRA'].\n"
     ]
    }
   ],
   "source": [
    "pmi_sorted = sorted(pmi, key=pmi.get, reverse=True)\n",
    "top_10 = pmi_sorted[:10]\n",
    "print('The 10 highest-PMI word pairs are: {}.'.format(top_10))"
   ]
  },
  {
   "cell_type": "markdown",
   "metadata": {},
   "source": [
    "#### Examine the PMI for \"New York\". Explain in your own words why it is not higher."
   ]
  },
  {
   "cell_type": "code",
   "execution_count": 15,
   "metadata": {},
   "outputs": [
    {
     "name": "stdout",
     "output_type": "stream",
     "text": [
      "The PMI for \"New York\" is: 18.14142879368312.\n"
     ]
    }
   ],
   "source": [
    "ny_pmi = pmi['NEW YORK']\n",
    "print('The PMI for \"New York\" is: {}.'.format(ny_pmi))"
   ]
  },
  {
   "cell_type": "code",
   "execution_count": 18,
   "metadata": {},
   "outputs": [
    {
     "data": {
      "text/plain": [
       "31251"
      ]
     },
     "execution_count": 18,
     "metadata": {},
     "output_type": "execute_result"
    }
   ],
   "source": [
    "fdist.get('NEW')"
   ]
  },
  {
   "cell_type": "code",
   "execution_count": 19,
   "metadata": {},
   "outputs": [
    {
     "data": {
      "text/plain": [
       "1949"
      ]
     },
     "execution_count": 19,
     "metadata": {},
     "output_type": "execute_result"
    }
   ],
   "source": [
    "fdist.get('YORK')"
   ]
  }
 ],
 "metadata": {
  "kernelspec": {
   "display_name": "Python 3",
   "language": "python",
   "name": "python3"
  },
  "language_info": {
   "codemirror_mode": {
    "name": "ipython",
    "version": 3
   },
   "file_extension": ".py",
   "mimetype": "text/x-python",
   "name": "python",
   "nbconvert_exporter": "python",
   "pygments_lexer": "ipython3",
   "version": "3.6.7"
  }
 },
 "nbformat": 4,
 "nbformat_minor": 2
}
